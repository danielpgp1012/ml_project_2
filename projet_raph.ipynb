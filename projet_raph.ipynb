{
 "cells": [
  {
   "cell_type": "code",
   "execution_count": 3,
   "metadata": {},
   "outputs": [],
   "source": [
    "import numpy as np\n",
    "import pandas as pd\n",
    "import matplotlib.pyplot as plt\n",
    "from sklearn.metrics import r2_score\n",
    "from sklearn.neural_network import MLPRegressor\n",
    "from sklearn.linear_model import LinearRegression, Ridge\n",
    "from sklearn.model_selection import cross_val_score, train_test_split"
   ]
  },
  {
   "cell_type": "code",
   "execution_count": 4,
   "metadata": {},
   "outputs": [],
   "source": [
    "data = \"data\""
   ]
  },
  {
   "cell_type": "code",
   "execution_count": 42,
   "metadata": {},
   "outputs": [],
   "source": [
    "df_meas = pd.read_csv(data + \"/IMPROVE_2015_measures_cs433.csv\")\n",
    "df_spec = pd.read_csv(data + \"/IMPROVE_2015_raw_spectra_cs433.csv\")\n",
    "df_split = pd.read_csv(data + \"/IMPROVE_2015_train_test_split_cs433.csv\")\n",
    "df_derive = pd.read_csv(data + \"/IMPROVE_2015_2nd-derivative_spectra_cs433.csv\")"
   ]
  },
  {
   "cell_type": "markdown",
   "metadata": {},
   "source": [
    "### Data Exploration"
   ]
  },
  {
   "cell_type": "code",
   "execution_count": 43,
   "metadata": {},
   "outputs": [],
   "source": [
    "df_meas = df_meas.set_index(\"site\")"
   ]
  },
  {
   "cell_type": "code",
   "execution_count": 44,
   "metadata": {},
   "outputs": [],
   "source": [
    "df_OC = pd.DataFrame(df_meas[[\"OCf:Value\",\"OCf:Unc\"]]) #df_meas.loc[df_meas.flag == \"NM\",[\"OCf:Value\",\"OCf:Unc\"]] "
   ]
  },
  {
   "cell_type": "markdown",
   "metadata": {},
   "source": [
    "### Data Processing"
   ]
  },
  {
   "cell_type": "code",
   "execution_count": 45,
   "metadata": {},
   "outputs": [],
   "source": [
    "df_spec = df_spec.T\n",
    "\n",
    "pd_merge = df_OC.merge(df_spec, right_index=True, left_index=True)"
   ]
  },
  {
   "cell_type": "code",
   "execution_count": 46,
   "metadata": {},
   "outputs": [],
   "source": [
    "df_split = df_split.set_index(\"site\", drop=True).drop([\"Unnamed: 0\"], axis=1)"
   ]
  },
  {
   "cell_type": "code",
   "execution_count": 47,
   "metadata": {},
   "outputs": [],
   "source": [
    "pd_merge_again = pd_merge.merge(df_split, right_index=True, left_index=True)\n",
    "\n",
    "set_train = pd_merge_again[pd_merge_again[\"usage\"] == \"calibration\"]\n",
    "set_test = pd_merge_again[pd_merge_again[\"usage\"] == \"test\"]"
   ]
  },
  {
   "cell_type": "code",
   "execution_count": 48,
   "metadata": {},
   "outputs": [],
   "source": [
    "df_OCU_tr = set_train[\"OCf:Unc\"]\n",
    "df_OCU_te = set_test[\"OCf:Unc\"]"
   ]
  },
  {
   "cell_type": "code",
   "execution_count": 27,
   "metadata": {},
   "outputs": [],
   "source": [
    "y_tr = set_train[\"OCf:Value\"]\n",
    "y_te = set_test[\"OCf:Value\"]\n",
    "x_tr = set_train.drop([\"OCf:Value\",\"OCf:Unc\",\"usage\"], axis=1)\n",
    "x_te = set_test.drop([\"OCf:Value\",\"OCf:Unc\",\"usage\"], axis=1)"
   ]
  },
  {
   "cell_type": "markdown",
   "metadata": {},
   "source": [
    "### LinearRegression"
   ]
  },
  {
   "cell_type": "code",
   "execution_count": null,
   "metadata": {},
   "outputs": [],
   "source": [
    "lr = LinearRegression()\n",
    "\n",
    "cross_val_score(lr, x_tr, y_tr, cv=10)\n",
    "\n",
    "lr.fit(x_tr,y_tr)"
   ]
  },
  {
   "cell_type": "code",
   "execution_count": 29,
   "metadata": {},
   "outputs": [],
   "source": [
    "y_pred_tr = lr.predict(x_tr)\n",
    "y_pred_te = lr.predict(x_te)"
   ]
  },
  {
   "cell_type": "code",
   "execution_count": 30,
   "metadata": {},
   "outputs": [
    {
     "data": {
      "text/plain": [
       "Text(0,0.5,'Predicted y')"
      ]
     },
     "execution_count": 30,
     "metadata": {},
     "output_type": "execute_result"
    },
    {
     "data": {
      "image/png": "[encoded data removed]",
      "text/plain": [
       "<Figure size 432x288 with 1 Axes>"
      ]
     },
     "metadata": {},
     "output_type": "display_data"
    }
   ],
   "source": [
    "plt.scatter(y_tr,y_pred_tr)\n",
    "u = np.linspace(0,500)\n",
    "plt.plot(u,u, c='black')\n",
    "plt.xlabel(\"True y\")\n",
    "plt.ylabel(\"Predicted y\")"
   ]
  },
  {
   "cell_type": "code",
   "execution_count": 31,
   "metadata": {},
   "outputs": [
    {
     "data": {
      "text/plain": [
       "0.9939504806681574"
      ]
     },
     "execution_count": 31,
     "metadata": {},
     "output_type": "execute_result"
    }
   ],
   "source": [
    "r2_score(y_tr,y_pred_tr)"
   ]
  },
  {
   "cell_type": "code",
   "execution_count": 32,
   "metadata": {},
   "outputs": [],
   "source": [
    "bias_tr = (y_tr - y_pred_tr) / df_OCU_tr\n",
    "#bias_te = (y_te - y_pred_te) / df_OCU_te"
   ]
  },
  {
   "cell_type": "code",
   "execution_count": 33,
   "metadata": {},
   "outputs": [],
   "source": [
    "SNR_tr = y_tr / df_OCU_tr\n",
    "#SNR_te = y_te / df_OCU_te"
   ]
  },
  {
   "cell_type": "code",
   "execution_count": 34,
   "metadata": {},
   "outputs": [
    {
     "data": {
      "text/plain": [
       "Text(0,0.5,'bias')"
      ]
     },
     "execution_count": 34,
     "metadata": {},
     "output_type": "execute_result"
    },
    {
     "data": {
      "image/png": "[encoded data removed]",
      "text/plain": [
       "<Figure size 432x288 with 1 Axes>"
      ]
     },
     "metadata": {},
     "output_type": "display_data"
    }
   ],
   "source": [
    "plt.scatter(SNR_tr,bias_tr)\n",
    "plt.title(\"linear\")\n",
    "plt.xlabel(\"SNR\")\n",
    "plt.ylabel(\"bias\")"
   ]
  },
  {
   "cell_type": "markdown",
   "metadata": {},
   "source": [
    "### Ridge regression"
   ]
  },
  {
   "cell_type": "code",
   "execution_count": 35,
   "metadata": {},
   "outputs": [],
   "source": [
    "ridge = Ridge()"
   ]
  },
  {
   "cell_type": "code",
   "execution_count": 36,
   "metadata": {},
   "outputs": [
    {
     "data": {
      "text/plain": [
       "array([0.95377443, 0.96659408, 0.98123803, 0.9557097 , 0.96215155,\n",
       "       0.97658692, 0.97252635, 0.9814716 , 0.9707717 , 0.96947386])"
      ]
     },
     "execution_count": 36,
     "metadata": {},
     "output_type": "execute_result"
    }
   ],
   "source": [
    "cross_val_score(ridge,x_tr,y_tr, cv=10)"
   ]
  },
  {
   "cell_type": "code",
   "execution_count": 37,
   "metadata": {},
   "outputs": [],
   "source": [
    "ridge.fit(x_tr,y_tr)\n",
    "y_pred_tr_ridge = ridge.predict(x_tr)\n",
    "#y_pred_te_ridge = ridge.predict(x_te)"
   ]
  },
  {
   "cell_type": "code",
   "execution_count": 38,
   "metadata": {},
   "outputs": [
    {
     "data": {
      "text/plain": [
       "Text(0,0.5,'Predicted y')"
      ]
     },
     "execution_count": 38,
     "metadata": {},
     "output_type": "execute_result"
    },
    {
     "data": {
      "image/png": "[encoded data removed]",
      "text/plain": [
       "<Figure size 432x288 with 1 Axes>"
      ]
     },
     "metadata": {},
     "output_type": "display_data"
    }
   ],
   "source": [
    "plt.scatter(y_tr,y_pred_tr_ridge)\n",
    "u = np.linspace(0,500)\n",
    "plt.plot(u,u, c='black')\n",
    "plt.xlabel(\"True y\")\n",
    "plt.ylabel(\"Predicted y\")\n"
   ]
  },
  {
   "cell_type": "code",
   "execution_count": 39,
   "metadata": {},
   "outputs": [
    {
     "data": {
      "text/plain": [
       "0.9754435219744605"
      ]
     },
     "execution_count": 39,
     "metadata": {},
     "output_type": "execute_result"
    }
   ],
   "source": [
    "r2_score(y_tr,y_pred_tr_ridge)"
   ]
  },
  {
   "cell_type": "code",
   "execution_count": 40,
   "metadata": {},
   "outputs": [
    {
     "data": {
      "text/plain": [
       "Text(0,0.5,'bias')"
      ]
     },
     "execution_count": 40,
     "metadata": {},
     "output_type": "execute_result"
    },
    {
     "data": {
      "image/png": "[encoded data removed]",
      "text/plain": [
       "<Figure size 432x288 with 1 Axes>"
      ]
     },
     "metadata": {},
     "output_type": "display_data"
    }
   ],
   "source": [
    "bias_tr_ridge = (y_tr - y_pred_tr_ridge) / df_OCU_tr\n",
    "\n",
    "plt.scatter(SNR_tr,bias_tr_ridge)\n",
    "plt.title(\"ridge\")\n",
    "plt.xlabel(\"SNR\")\n",
    "plt.ylabel(\"bias\")"
   ]
  },
  {
   "cell_type": "markdown",
   "metadata": {},
   "source": [
    "### Neural Network"
   ]
  },
  {
   "cell_type": "code",
   "execution_count": 41,
   "metadata": {},
   "outputs": [],
   "source": [
    "nn = MLPRegressor()"
   ]
  },
  {
   "cell_type": "code",
   "execution_count": 42,
   "metadata": {},
   "outputs": [
    {
     "data": {
      "text/plain": [
       "MLPRegressor(activation='relu', alpha=0.0001, batch_size='auto', beta_1=0.9,\n",
       "       beta_2=0.999, early_stopping=False, epsilon=1e-08,\n",
       "       hidden_layer_sizes=(100,), learning_rate='constant',\n",
       "       learning_rate_init=0.001, max_iter=200, momentum=0.9,\n",
       "       nesterovs_momentum=True, power_t=0.5, random_state=None,\n",
       "       shuffle=True, solver='adam', tol=0.0001, validation_fraction=0.1,\n",
       "       verbose=False, warm_start=False)"
      ]
     },
     "execution_count": 42,
     "metadata": {},
     "output_type": "execute_result"
    }
   ],
   "source": [
    "nn.fit(x_tr,y_tr)"
   ]
  },
  {
   "cell_type": "code",
   "execution_count": 43,
   "metadata": {},
   "outputs": [],
   "source": [
    "y_pred_tr_nn = nn.predict(x_tr)"
   ]
  },
  {
   "cell_type": "code",
   "execution_count": 44,
   "metadata": {},
   "outputs": [
    {
     "data": {
      "text/plain": [
       "Text(0,0.5,'Predicted y')"
      ]
     },
     "execution_count": 44,
     "metadata": {},
     "output_type": "execute_result"
    },
    {
     "data": {
      "image/png": "[encoded data removed]",
      "text/plain": [
       "<Figure size 432x288 with 1 Axes>"
      ]
     },
     "metadata": {},
     "output_type": "display_data"
    }
   ],
   "source": [
    "plt.scatter(y_tr,y_pred_tr_nn)\n",
    "u = np.linspace(0,500)\n",
    "plt.plot(u,u, c='black')\n",
    "plt.xlabel(\"True y\")\n",
    "plt.ylabel(\"Predicted y\")"
   ]
  },
  {
   "cell_type": "code",
   "execution_count": 45,
   "metadata": {},
   "outputs": [
    {
     "data": {
      "text/plain": [
       "0.9455604454026282"
      ]
     },
     "execution_count": 45,
     "metadata": {},
     "output_type": "execute_result"
    }
   ],
   "source": [
    "r2_score(y_tr,y_pred_tr_nn)"
   ]
  },
  {
   "cell_type": "code",
   "execution_count": 46,
   "metadata": {},
   "outputs": [
    {
     "data": {
      "text/plain": [
       "Text(0,0.5,'bias')"
      ]
     },
     "execution_count": 46,
     "metadata": {},
     "output_type": "execute_result"
    },
    {
     "data": {
      "image/png": "[encoded data removed]",
      "text/plain": [
       "<Figure size 432x288 with 1 Axes>"
      ]
     },
     "metadata": {},
     "output_type": "display_data"
    }
   ],
   "source": [
    "bias_tr_nn = (y_tr - y_pred_tr_nn) / df_OCU_tr\n",
    "\n",
    "plt.scatter(SNR_tr,bias_tr_nn)\n",
    "plt.title(\"NN\")\n",
    "plt.xlabel(\"SNR\")\n",
    "plt.ylabel(\"bias\")"
   ]
  },
  {
   "cell_type": "markdown",
   "metadata": {},
   "source": [
    "# 2nd derivative"
   ]
  },
  {
   "cell_type": "code",
   "execution_count": 49,
   "metadata": {},
   "outputs": [],
   "source": [
    "df_derive = df_derive.T"
   ]
  },
  {
   "cell_type": "code",
   "execution_count": 50,
   "metadata": {},
   "outputs": [],
   "source": [
    "pd_der_merge = df_OC.merge(df_derive, right_index=True, left_index=True)"
   ]
  },
  {
   "cell_type": "code",
   "execution_count": 49,
   "metadata": {},
   "outputs": [
    {
     "data": {
      "text/html": [
       "<div>\n",
       "<style scoped>\n",
       "    .dataframe tbody tr th:only-of-type {\n",
       "        vertical-align: middle;\n",
       "    }\n",
       "\n",
       "    .dataframe tbody tr th {\n",
       "        vertical-align: top;\n",
       "    }\n",
       "\n",
       "    .dataframe thead th {\n",
       "        text-align: right;\n",
       "    }\n",
       "</style>\n",
       "<table border=\"1\" class=\"dataframe\">\n",
       "  <thead>\n",
       "    <tr style=\"text-align: right;\">\n",
       "      <th></th>\n",
       "      <th>usage</th>\n",
       "    </tr>\n",
       "    <tr>\n",
       "      <th>site</th>\n",
       "      <th></th>\n",
       "    </tr>\n",
       "  </thead>\n",
       "  <tbody>\n",
       "    <tr>\n",
       "      <th>CRLA1_04_21_2015_NM_0_csv</th>\n",
       "      <td>calibration</td>\n",
       "    </tr>\n",
       "    <tr>\n",
       "      <th>TONT1_05_09_2015_NM_0_csv</th>\n",
       "      <td>calibration</td>\n",
       "    </tr>\n",
       "    <tr>\n",
       "      <th>BADL1_11_26_2015_NM_0_csv</th>\n",
       "      <td>calibration</td>\n",
       "    </tr>\n",
       "    <tr>\n",
       "      <th>BRID1_10_27_2015_NM_0_csv</th>\n",
       "      <td>calibration</td>\n",
       "    </tr>\n",
       "    <tr>\n",
       "      <th>SEQU1_04_03_2015_NM_0_csv</th>\n",
       "      <td>calibration</td>\n",
       "    </tr>\n",
       "    <tr>\n",
       "      <th>PINN1_08_04_2015_NM_QC_0_csv</th>\n",
       "      <td>calibration</td>\n",
       "    </tr>\n",
       "    <tr>\n",
       "      <th>BRIS1_12_17_2015_NM_0_csv</th>\n",
       "      <td>calibration</td>\n",
       "    </tr>\n",
       "    <tr>\n",
       "      <th>BRCA1_04_15_2015_NM_0_csv</th>\n",
       "      <td>calibration</td>\n",
       "    </tr>\n",
       "    <tr>\n",
       "      <th>ORPI1_09_03_2015_FB_0_csv</th>\n",
       "      <td>calibration</td>\n",
       "    </tr>\n",
       "  </tbody>\n",
       "</table>\n",
       "</div>"
      ],
      "text/plain": [
       "                                    usage\n",
       "site                                     \n",
       "CRLA1_04_21_2015_NM_0_csv     calibration\n",
       "TONT1_05_09_2015_NM_0_csv     calibration\n",
       "BADL1_11_26_2015_NM_0_csv     calibration\n",
       "BRID1_10_27_2015_NM_0_csv     calibration\n",
       "SEQU1_04_03_2015_NM_0_csv     calibration\n",
       "PINN1_08_04_2015_NM_QC_0_csv  calibration\n",
       "BRIS1_12_17_2015_NM_0_csv     calibration\n",
       "BRCA1_04_15_2015_NM_0_csv     calibration\n",
       "ORPI1_09_03_2015_FB_0_csv     calibration"
      ]
     },
     "execution_count": 49,
     "metadata": {},
     "output_type": "execute_result"
    }
   ],
   "source": [
    "df_split.head(9)"
   ]
  },
  {
   "cell_type": "code",
   "execution_count": 51,
   "metadata": {},
   "outputs": [],
   "source": [
    "pd_der_again = pd_der_merge.merge(df_split, right_index=True, left_index=True)"
   ]
  },
  {
   "cell_type": "code",
   "execution_count": 51,
   "metadata": {},
   "outputs": [],
   "source": [
    "set_train_der = pd_der_again[pd_der_again[\"usage\"] == \"calibration\"]"
   ]
  },
  {
   "cell_type": "code",
   "execution_count": 52,
   "metadata": {},
   "outputs": [],
   "source": [
    "set_test_der = pd_der_again[pd_der_again[\"usage\"] == \"test\"]"
   ]
  },
  {
   "cell_type": "code",
   "execution_count": 53,
   "metadata": {},
   "outputs": [],
   "source": [
    "y_tr_der = set_train_der[\"OCf:Value\"]\n",
    "y_te_der = set_test_der[\"OCf:Value\"]\n",
    "x_tr_der = set_train_der.drop([\"OCf:Value\",\"OCf:Unc\",\"usage\"], axis=1)\n",
    "x_te_der = set_test_der.drop([\"OCf:Value\",\"OCf:Unc\",\"usage\"], axis=1)"
   ]
  },
  {
   "cell_type": "code",
   "execution_count": 54,
   "metadata": {},
   "outputs": [
    {
     "data": {
      "text/plain": [
       "LinearRegression(copy_X=True, fit_intercept=True, n_jobs=1, normalize=False)"
      ]
     },
     "execution_count": 54,
     "metadata": {},
     "output_type": "execute_result"
    }
   ],
   "source": [
    "lr.fit(x_tr_der,y_tr_der)"
   ]
  },
  {
   "cell_type": "code",
   "execution_count": 55,
   "metadata": {},
   "outputs": [],
   "source": [
    "der_predict_tr = lr.predict(x_tr_der)"
   ]
  },
  {
   "cell_type": "code",
   "execution_count": 56,
   "metadata": {},
   "outputs": [
    {
     "data": {
      "text/plain": [
       "Text(0,0.5,'Predicted y')"
      ]
     },
     "execution_count": 56,
     "metadata": {},
     "output_type": "execute_result"
    },
    {
     "data": {
      "image/png": "[encoded data removed]",
      "text/plain": [
       "<Figure size 432x288 with 1 Axes>"
      ]
     },
     "metadata": {},
     "output_type": "display_data"
    }
   ],
   "source": [
    "plt.scatter(y_tr,der_predict_tr)\n",
    "u = np.linspace(0,500)\n",
    "plt.plot(u,u, c='black')\n",
    "plt.xlabel(\"True y\")\n",
    "plt.ylabel(\"Predicted y\")"
   ]
  },
  {
   "cell_type": "code",
   "execution_count": 57,
   "metadata": {},
   "outputs": [
    {
     "data": {
      "text/plain": [
       "0.9938818952842716"
      ]
     },
     "execution_count": 57,
     "metadata": {},
     "output_type": "execute_result"
    }
   ],
   "source": [
    "r2_score(y_tr,der_predict_tr)"
   ]
  },
  {
   "cell_type": "code",
   "execution_count": 58,
   "metadata": {},
   "outputs": [
    {
     "data": {
      "text/plain": [
       "CRLA1_04_21_2015_NM_0_csv      -1.664240e-07\n",
       "TONT1_05_09_2015_NM_0_csv      -2.567684e-07\n",
       "BADL1_11_26_2015_NM_0_csv      -3.991203e-07\n",
       "BRID1_10_27_2015_NM_0_csv       4.606378e-08\n",
       "SEQU1_04_03_2015_NM_0_csv       9.093881e-08\n",
       "PINN1_08_04_2015_NM_QC_0_csv   -6.154715e-07\n",
       "BRIS1_12_17_2015_NM_0_csv      -3.292817e-07\n",
       "BRCA1_04_15_2015_NM_0_csv       9.093881e-08\n",
       "WHIT1_12_14_2015_NM_0_csv      -8.321198e-09\n",
       "DOME1_08_31_2015_NM_0_csv       1.444322e-07\n",
       "GLAC1_04_09_2015_NM_0_csv       3.661327e-07\n",
       "LOST1_03_07_2015_NM_0_csv      -3.209605e-07\n",
       "MAKA2_03_31_2015_NM_0_csv      -4.763886e-07\n",
       "ELLI1_08_13_2015_NM_2_0_csv    -2.169455e-08\n",
       "BADL1_10_09_2015_NM_0_csv      -1.845523e-07\n",
       "MOZI1_04_15_2015_NM_0_csv       9.331629e-08\n",
       "IKBA1_01_06_2015_NM_0_csv      -4.332967e-07\n",
       "SHEN1_02_08_2015_NM_0_csv      -1.393801e-07\n",
       "PHOE5_11_23_2015_NM_0_csv      -2.835151e-07\n",
       "MORA1_04_21_2015_NM_0_csv      -1.227377e-07\n",
       "BYIS1_08_07_2015_NM_0_csv      -3.269042e-07\n",
       "SIPS1_08_01_2015_NM_0_csv      -4.009034e-07\n",
       "NOCA1_10_06_2015_NM_0_csv      -2.270498e-07\n",
       "SAGU1_08_31_2015_NM_0_csv       3.711849e-07\n",
       "PUSO1_09_27_2015_NM_0_csv      -6.110137e-07\n",
       "ELDO1_07_05_2015_NM_0_csv      -8.529228e-08\n",
       "GRBA1_11_08_2015_NM_0_csv      -3.173943e-07\n",
       "HACR1_11_14_2015_NM_0_csv       1.313561e-07\n",
       "VILA1_11_14_2015_NM_0_csv       2.199174e-07\n",
       "PENO1_06_14_2015_NM_0_csv      -1.043122e-07\n",
       "                                    ...     \n",
       "STAR1_01_06_2015_NM_0_csv      -5.162115e-07\n",
       "SAGO1_01_03_2015_NM_0_csv      -1.634521e-07\n",
       "GRSA1_11_23_2015_NM_0_csv      -1.037178e-07\n",
       "LYEB1_12_23_2015_NM_0_csv      -3.099646e-07\n",
       "PORE1_04_27_2015_NM_0_csv       2.181343e-07\n",
       "CEBL1_07_17_2015_NM_0_csv       1.595887e-07\n",
       "CRLA1_03_07_2015_NM_0_csv      -3.590003e-07\n",
       "SAGO1_07_20_2015_NM_0_csv      -3.771286e-07\n",
       "PHOE1_01_30_2015_NM_0_csv      -5.111593e-07\n",
       "PACK1_04_15_2015_NM_0_csv       2.273470e-07\n",
       "IKBA1_06_29_2015_NM_0_csv      -3.129365e-07\n",
       "GICL1_06_29_2015_NM_0_csv      -4.457334e-18\n",
       "OKEF1_05_27_2015_NM_0_csv       1.631549e-07\n",
       "WEMI1_05_21_2015_NM_0_csv      -1.896044e-07\n",
       "HOOV1_08_13_2015_NM_0_csv       3.376029e-07\n",
       "WHPA1_08_01_2015_NM_0_csv      -2.594431e-07\n",
       "SENE1_02_11_2015_NM_0_csv       2.805433e-07\n",
       "MONT1_08_31_2015_NM_0_csv      -1.833635e-07\n",
       "MELA1_04_09_2015_NM_0_csv      -4.835211e-07\n",
       "SHRO1_09_15_2015_NM_0_csv      -7.697108e-07\n",
       "SAGU1_08_22_2015_NM_0_csv      -9.123600e-08\n",
       "FRRE1_03_19_2015_NM_0_csv      -1.049065e-07\n",
       "PENO1_02_26_2015_NM_0_csv      -6.181462e-08\n",
       "LASU2_02_17_2015_NM_0_csv       3.402776e-07\n",
       "LOST1_01_24_2015_NM_0_csv       5.795120e-08\n",
       "TRIN1_06_05_2015_NM_0_csv       4.309192e-08\n",
       "NOCA1_04_21_2015_NM_0_csv       1.925763e-07\n",
       "SIME1_11_02_2015_NM_0_csv       7.013581e-08\n",
       "ELLI1_04_03_2015_NM_0_csv      -4.071443e-08\n",
       "SAWE1_02_05_2015_NM_0_csv      -1.479985e-07\n",
       "Name: 0, Length: 13362, dtype: float64"
      ]
     },
     "execution_count": 58,
     "metadata": {},
     "output_type": "execute_result"
    }
   ],
   "source": [
    "x_tr_der[x_tr_der.index.contains(\"_NM_\")]"
   ]
  },
  {
   "cell_type": "markdown",
   "metadata": {},
   "source": [
    "## Data processing on 2de derivative"
   ]
  },
  {
   "cell_type": "code",
   "execution_count": 52,
   "metadata": {},
   "outputs": [],
   "source": [
    "X = pd_der_again.drop('usage', axis=1)\n",
    "y_both = pd_der_again[['OCf:Value', 'OCf:Unc']]\n",
    "y_value = pd_der_again['OCf:Value']"
   ]
  },
  {
   "cell_type": "code",
   "execution_count": 75,
   "metadata": {},
   "outputs": [
    {
     "data": {
      "text/plain": [
       "[<matplotlib.lines.Line2D at 0x1a1f301400>,\n",
       " <matplotlib.lines.Line2D at 0x1a1f3014e0>,\n",
       " <matplotlib.lines.Line2D at 0x1a1f301630>,\n",
       " <matplotlib.lines.Line2D at 0x1a1f301780>,\n",
       " <matplotlib.lines.Line2D at 0x1a1f3018d0>,\n",
       " <matplotlib.lines.Line2D at 0x1a1f301a20>,\n",
       " <matplotlib.lines.Line2D at 0x1a1f301b70>,\n",
       " <matplotlib.lines.Line2D at 0x1a1f301cc0>,\n",
       " <matplotlib.lines.Line2D at 0x1a1f301e10>,\n",
       " <matplotlib.lines.Line2D at 0x1a1f301f60>,\n",
       " <matplotlib.lines.Line2D at 0x1a1f2dc358>,\n",
       " <matplotlib.lines.Line2D at 0x1a1f308208>,\n",
       " <matplotlib.lines.Line2D at 0x1a1f308358>,\n",
       " <matplotlib.lines.Line2D at 0x1a1f3084a8>,\n",
       " <matplotlib.lines.Line2D at 0x1a1f3085f8>,\n",
       " <matplotlib.lines.Line2D at 0x1a1f308748>,\n",
       " <matplotlib.lines.Line2D at 0x1a1f308898>,\n",
       " <matplotlib.lines.Line2D at 0x1a1f3089e8>,\n",
       " <matplotlib.lines.Line2D at 0x1a1f308b38>,\n",
       " <matplotlib.lines.Line2D at 0x1a1f308c88>,\n",
       " <matplotlib.lines.Line2D at 0x1a1f308dd8>,\n",
       " <matplotlib.lines.Line2D at 0x1a1f308f28>,\n",
       " <matplotlib.lines.Line2D at 0x1a1f30c0b8>,\n",
       " <matplotlib.lines.Line2D at 0x1a1f30c208>,\n",
       " <matplotlib.lines.Line2D at 0x1a1f30c358>,\n",
       " <matplotlib.lines.Line2D at 0x1a1f30c4a8>,\n",
       " <matplotlib.lines.Line2D at 0x1a1f30c5f8>,\n",
       " <matplotlib.lines.Line2D at 0x1a1f30c748>,\n",
       " <matplotlib.lines.Line2D at 0x1a1f30c898>,\n",
       " <matplotlib.lines.Line2D at 0x1a1f30c9e8>,\n",
       " <matplotlib.lines.Line2D at 0x1a1f30cb38>,\n",
       " <matplotlib.lines.Line2D at 0x1a1f30cc88>,\n",
       " <matplotlib.lines.Line2D at 0x1a1f30cdd8>,\n",
       " <matplotlib.lines.Line2D at 0x1a1f30cf28>,\n",
       " <matplotlib.lines.Line2D at 0x1a1f3110b8>,\n",
       " <matplotlib.lines.Line2D at 0x1a1f311208>,\n",
       " <matplotlib.lines.Line2D at 0x1a1f311358>,\n",
       " <matplotlib.lines.Line2D at 0x1a1f3114a8>,\n",
       " <matplotlib.lines.Line2D at 0x1a1f3115f8>,\n",
       " <matplotlib.lines.Line2D at 0x1a1f311748>,\n",
       " <matplotlib.lines.Line2D at 0x1a1f311898>,\n",
       " <matplotlib.lines.Line2D at 0x1a1f3119e8>,\n",
       " <matplotlib.lines.Line2D at 0x1a1f311b38>,\n",
       " <matplotlib.lines.Line2D at 0x1a1f311c88>,\n",
       " <matplotlib.lines.Line2D at 0x1a1f311dd8>,\n",
       " <matplotlib.lines.Line2D at 0x1a1f311f28>,\n",
       " <matplotlib.lines.Line2D at 0x1a1f3760b8>,\n",
       " <matplotlib.lines.Line2D at 0x1a1f376208>,\n",
       " <matplotlib.lines.Line2D at 0x1a1f376358>,\n",
       " <matplotlib.lines.Line2D at 0x1a1f3764a8>,\n",
       " <matplotlib.lines.Line2D at 0x1a1f3765f8>,\n",
       " <matplotlib.lines.Line2D at 0x1a1f376748>,\n",
       " <matplotlib.lines.Line2D at 0x1a1f376898>,\n",
       " <matplotlib.lines.Line2D at 0x1a1f3769e8>,\n",
       " <matplotlib.lines.Line2D at 0x1a1f376b38>,\n",
       " <matplotlib.lines.Line2D at 0x1a1f376c88>,\n",
       " <matplotlib.lines.Line2D at 0x1a1f376dd8>,\n",
       " <matplotlib.lines.Line2D at 0x1a1f376f28>,\n",
       " <matplotlib.lines.Line2D at 0x1a1f37c0b8>,\n",
       " <matplotlib.lines.Line2D at 0x1a1f37c208>,\n",
       " <matplotlib.lines.Line2D at 0x1a1f37c358>,\n",
       " <matplotlib.lines.Line2D at 0x1a1f37c4a8>,\n",
       " <matplotlib.lines.Line2D at 0x1a1f37c5f8>,\n",
       " <matplotlib.lines.Line2D at 0x1a1f37c748>,\n",
       " <matplotlib.lines.Line2D at 0x1a1f37c898>,\n",
       " <matplotlib.lines.Line2D at 0x1a1f37c9e8>,\n",
       " <matplotlib.lines.Line2D at 0x1a1f37cb38>,\n",
       " <matplotlib.lines.Line2D at 0x1a1f37cc88>,\n",
       " <matplotlib.lines.Line2D at 0x1a1f37cdd8>,\n",
       " <matplotlib.lines.Line2D at 0x1a1f37cf28>,\n",
       " <matplotlib.lines.Line2D at 0x1a1f37f0b8>,\n",
       " <matplotlib.lines.Line2D at 0x1a1f37f208>,\n",
       " <matplotlib.lines.Line2D at 0x1a1f37f358>,\n",
       " <matplotlib.lines.Line2D at 0x1a1f37f4a8>,\n",
       " <matplotlib.lines.Line2D at 0x1a1f37f5f8>,\n",
       " <matplotlib.lines.Line2D at 0x1a1f37f748>,\n",
       " <matplotlib.lines.Line2D at 0x1a1f37f898>,\n",
       " <matplotlib.lines.Line2D at 0x1a1f37f9e8>,\n",
       " <matplotlib.lines.Line2D at 0x1a1f37fb38>,\n",
       " <matplotlib.lines.Line2D at 0x1a1f37fc88>,\n",
       " <matplotlib.lines.Line2D at 0x1a1f37fdd8>,\n",
       " <matplotlib.lines.Line2D at 0x1a1f37ff28>,\n",
       " <matplotlib.lines.Line2D at 0x1a1f3840b8>,\n",
       " <matplotlib.lines.Line2D at 0x1a1f384208>,\n",
       " <matplotlib.lines.Line2D at 0x1a1f384358>,\n",
       " <matplotlib.lines.Line2D at 0x1a1f3844a8>,\n",
       " <matplotlib.lines.Line2D at 0x1a1f3845f8>,\n",
       " <matplotlib.lines.Line2D at 0x1a1f384748>,\n",
       " <matplotlib.lines.Line2D at 0x1a1f384898>,\n",
       " <matplotlib.lines.Line2D at 0x1a1f3849e8>,\n",
       " <matplotlib.lines.Line2D at 0x1a1f384b38>,\n",
       " <matplotlib.lines.Line2D at 0x1a1f384c88>,\n",
       " <matplotlib.lines.Line2D at 0x1a1f384dd8>,\n",
       " <matplotlib.lines.Line2D at 0x1a1f384f28>,\n",
       " <matplotlib.lines.Line2D at 0x1a1f3880b8>,\n",
       " <matplotlib.lines.Line2D at 0x1a1f388208>,\n",
       " <matplotlib.lines.Line2D at 0x1a1f388358>,\n",
       " <matplotlib.lines.Line2D at 0x1a1f3884a8>,\n",
       " <matplotlib.lines.Line2D at 0x1a1f3885f8>,\n",
       " <matplotlib.lines.Line2D at 0x1a1f388748>,\n",
       " <matplotlib.lines.Line2D at 0x1a1f388898>,\n",
       " <matplotlib.lines.Line2D at 0x1a1f3889e8>,\n",
       " <matplotlib.lines.Line2D at 0x1a1f388b38>,\n",
       " <matplotlib.lines.Line2D at 0x1a1f388c88>,\n",
       " <matplotlib.lines.Line2D at 0x1a1f388dd8>,\n",
       " <matplotlib.lines.Line2D at 0x1a1f388f28>,\n",
       " <matplotlib.lines.Line2D at 0x1a1f38d0b8>,\n",
       " <matplotlib.lines.Line2D at 0x1a1f38d208>,\n",
       " <matplotlib.lines.Line2D at 0x1a1f38d358>,\n",
       " <matplotlib.lines.Line2D at 0x1a1f38d4a8>,\n",
       " <matplotlib.lines.Line2D at 0x1a1f38d5f8>,\n",
       " <matplotlib.lines.Line2D at 0x1a1f38d748>,\n",
       " <matplotlib.lines.Line2D at 0x1a1f38d898>,\n",
       " <matplotlib.lines.Line2D at 0x1a1f38d9e8>,\n",
       " <matplotlib.lines.Line2D at 0x1a1f38db38>,\n",
       " <matplotlib.lines.Line2D at 0x1a1f38dc88>,\n",
       " <matplotlib.lines.Line2D at 0x1a1f38ddd8>,\n",
       " <matplotlib.lines.Line2D at 0x1a1f38df28>,\n",
       " <matplotlib.lines.Line2D at 0x1a1f3900b8>,\n",
       " <matplotlib.lines.Line2D at 0x1a1f390208>,\n",
       " <matplotlib.lines.Line2D at 0x1a1f390358>,\n",
       " <matplotlib.lines.Line2D at 0x1a1f3904a8>,\n",
       " <matplotlib.lines.Line2D at 0x1a1f3905f8>,\n",
       " <matplotlib.lines.Line2D at 0x1a1f390748>,\n",
       " <matplotlib.lines.Line2D at 0x1a1f390898>,\n",
       " <matplotlib.lines.Line2D at 0x1a1f3909e8>,\n",
       " <matplotlib.lines.Line2D at 0x1a1f390b38>,\n",
       " <matplotlib.lines.Line2D at 0x1a1f390c88>,\n",
       " <matplotlib.lines.Line2D at 0x1a1f390dd8>,\n",
       " <matplotlib.lines.Line2D at 0x1a1f390f28>,\n",
       " <matplotlib.lines.Line2D at 0x1a1f3960b8>,\n",
       " <matplotlib.lines.Line2D at 0x1a1f396208>,\n",
       " <matplotlib.lines.Line2D at 0x1a1f396358>,\n",
       " <matplotlib.lines.Line2D at 0x1a1f3964a8>,\n",
       " <matplotlib.lines.Line2D at 0x1a1f3965f8>,\n",
       " <matplotlib.lines.Line2D at 0x1a1f396748>,\n",
       " <matplotlib.lines.Line2D at 0x1a1f396898>,\n",
       " <matplotlib.lines.Line2D at 0x1a1f3969e8>,\n",
       " <matplotlib.lines.Line2D at 0x1a1f396b38>,\n",
       " <matplotlib.lines.Line2D at 0x1a1f396c88>,\n",
       " <matplotlib.lines.Line2D at 0x1a1f396dd8>,\n",
       " <matplotlib.lines.Line2D at 0x1a1f396f28>,\n",
       " <matplotlib.lines.Line2D at 0x1a1f39a0b8>,\n",
       " <matplotlib.lines.Line2D at 0x1a1f39a208>,\n",
       " <matplotlib.lines.Line2D at 0x1a1f39a358>,\n",
       " <matplotlib.lines.Line2D at 0x1a1f39a4a8>,\n",
       " <matplotlib.lines.Line2D at 0x1a1f39a5f8>,\n",
       " <matplotlib.lines.Line2D at 0x1a1f39a748>,\n",
       " <matplotlib.lines.Line2D at 0x1a1f39a898>,\n",
       " <matplotlib.lines.Line2D at 0x1a1f39a9e8>,\n",
       " <matplotlib.lines.Line2D at 0x1a1f39ab38>,\n",
       " <matplotlib.lines.Line2D at 0x1a1f39ac88>,\n",
       " <matplotlib.lines.Line2D at 0x1a1f39add8>,\n",
       " <matplotlib.lines.Line2D at 0x1a1f39af28>,\n",
       " <matplotlib.lines.Line2D at 0x1a1f3a00b8>,\n",
       " <matplotlib.lines.Line2D at 0x1a1f3a0208>,\n",
       " <matplotlib.lines.Line2D at 0x1a1f3a0358>,\n",
       " <matplotlib.lines.Line2D at 0x1a1f3a04a8>,\n",
       " <matplotlib.lines.Line2D at 0x1a1f3a05f8>,\n",
       " <matplotlib.lines.Line2D at 0x1a1f3a0748>,\n",
       " <matplotlib.lines.Line2D at 0x1a1f3a0898>,\n",
       " <matplotlib.lines.Line2D at 0x1a1f3a09e8>,\n",
       " <matplotlib.lines.Line2D at 0x1a1f3a0b38>,\n",
       " <matplotlib.lines.Line2D at 0x1a1f3a0c88>,\n",
       " <matplotlib.lines.Line2D at 0x1a1f3a0dd8>,\n",
       " <matplotlib.lines.Line2D at 0x1a1f3a0f28>,\n",
       " <matplotlib.lines.Line2D at 0x1a1f3a30b8>,\n",
       " <matplotlib.lines.Line2D at 0x1a1f3a3208>,\n",
       " <matplotlib.lines.Line2D at 0x1a1f3a3358>,\n",
       " <matplotlib.lines.Line2D at 0x1a1f3a34a8>,\n",
       " <matplotlib.lines.Line2D at 0x1a1f3a35f8>,\n",
       " <matplotlib.lines.Line2D at 0x1a1f3a3748>,\n",
       " <matplotlib.lines.Line2D at 0x1a1f3a3898>,\n",
       " <matplotlib.lines.Line2D at 0x1a1f3a39e8>,\n",
       " <matplotlib.lines.Line2D at 0x1a1f3a3b38>,\n",
       " <matplotlib.lines.Line2D at 0x1a1f3a3c88>,\n",
       " <matplotlib.lines.Line2D at 0x1a1f3a3dd8>,\n",
       " <matplotlib.lines.Line2D at 0x1a1f3a3f28>,\n",
       " <matplotlib.lines.Line2D at 0x1a1f3a90b8>,\n",
       " <matplotlib.lines.Line2D at 0x1a1f3a9208>,\n",
       " <matplotlib.lines.Line2D at 0x1a1f3a9358>,\n",
       " <matplotlib.lines.Line2D at 0x1a1f3a94a8>,\n",
       " <matplotlib.lines.Line2D at 0x1a1f3a95f8>,\n",
       " <matplotlib.lines.Line2D at 0x1a1f3a9748>,\n",
       " <matplotlib.lines.Line2D at 0x1a1f3a9898>,\n",
       " <matplotlib.lines.Line2D at 0x1a1f3a99e8>,\n",
       " <matplotlib.lines.Line2D at 0x1a1f3a9b38>,\n",
       " <matplotlib.lines.Line2D at 0x1a1f3a9c88>,\n",
       " <matplotlib.lines.Line2D at 0x1a1f3a9dd8>,\n",
       " <matplotlib.lines.Line2D at 0x1a1f3a9f28>,\n",
       " <matplotlib.lines.Line2D at 0x1a1f3ae0b8>,\n",
       " <matplotlib.lines.Line2D at 0x1a1f3ae208>,\n",
       " <matplotlib.lines.Line2D at 0x1a1f3ae358>,\n",
       " <matplotlib.lines.Line2D at 0x1a1f3ae4a8>,\n",
       " <matplotlib.lines.Line2D at 0x1a1f3ae5f8>,\n",
       " <matplotlib.lines.Line2D at 0x1a1f3ae748>,\n",
       " <matplotlib.lines.Line2D at 0x1a1f3ae898>,\n",
       " <matplotlib.lines.Line2D at 0x1a1f3ae9e8>,\n",
       " <matplotlib.lines.Line2D at 0x1a1f3aeb38>,\n",
       " <matplotlib.lines.Line2D at 0x1a1f3aec88>,\n",
       " <matplotlib.lines.Line2D at 0x1a1f3aedd8>,\n",
       " <matplotlib.lines.Line2D at 0x1a1f3aef28>,\n",
       " <matplotlib.lines.Line2D at 0x1a1f3b30b8>,\n",
       " <matplotlib.lines.Line2D at 0x1a1f3b3208>,\n",
       " <matplotlib.lines.Line2D at 0x1a1f3b3358>,\n",
       " <matplotlib.lines.Line2D at 0x1a1f3b34a8>,\n",
       " <matplotlib.lines.Line2D at 0x1a1f3b35f8>,\n",
       " <matplotlib.lines.Line2D at 0x1a1f3b3748>,\n",
       " <matplotlib.lines.Line2D at 0x1a1f3b3898>,\n",
       " <matplotlib.lines.Line2D at 0x1a1f3b39e8>,\n",
       " <matplotlib.lines.Line2D at 0x1a1f3b3b38>,\n",
       " <matplotlib.lines.Line2D at 0x1a1f3b3c88>,\n",
       " <matplotlib.lines.Line2D at 0x1a1f3b3dd8>,\n",
       " <matplotlib.lines.Line2D at 0x1a1f3b3f28>,\n",
       " <matplotlib.lines.Line2D at 0x1a1f3b70b8>,\n",
       " <matplotlib.lines.Line2D at 0x1a1f3b7208>,\n",
       " <matplotlib.lines.Line2D at 0x1a1f3b7358>,\n",
       " <matplotlib.lines.Line2D at 0x1a1f3b74a8>,\n",
       " <matplotlib.lines.Line2D at 0x1a1f3b75f8>,\n",
       " <matplotlib.lines.Line2D at 0x1a1f3b7748>,\n",
       " <matplotlib.lines.Line2D at 0x1a1f3b7898>,\n",
       " <matplotlib.lines.Line2D at 0x1a1f3b79e8>,\n",
       " <matplotlib.lines.Line2D at 0x1a1f3b7b38>,\n",
       " <matplotlib.lines.Line2D at 0x1a1f3b7c88>,\n",
       " <matplotlib.lines.Line2D at 0x1a1f3b7dd8>,\n",
       " <matplotlib.lines.Line2D at 0x1a1f3b7f28>,\n",
       " <matplotlib.lines.Line2D at 0x1a1f3be0b8>,\n",
       " <matplotlib.lines.Line2D at 0x1a1f3be208>,\n",
       " <matplotlib.lines.Line2D at 0x1a1f3be358>,\n",
       " <matplotlib.lines.Line2D at 0x1a1f3be4a8>,\n",
       " <matplotlib.lines.Line2D at 0x1a1f3be5f8>,\n",
       " <matplotlib.lines.Line2D at 0x1a1f3be748>,\n",
       " <matplotlib.lines.Line2D at 0x1a1f3be898>,\n",
       " <matplotlib.lines.Line2D at 0x1a1f3be9e8>,\n",
       " <matplotlib.lines.Line2D at 0x1a1f3beb38>,\n",
       " <matplotlib.lines.Line2D at 0x1a1f3bec88>,\n",
       " <matplotlib.lines.Line2D at 0x1a1f3bedd8>,\n",
       " <matplotlib.lines.Line2D at 0x1a1f3bef28>,\n",
       " <matplotlib.lines.Line2D at 0x1a1f3c30b8>,\n",
       " <matplotlib.lines.Line2D at 0x1a1f3c3208>,\n",
       " <matplotlib.lines.Line2D at 0x1a1f3c3358>,\n",
       " <matplotlib.lines.Line2D at 0x1a1f3c34a8>,\n",
       " <matplotlib.lines.Line2D at 0x1a1f3c35f8>,\n",
       " <matplotlib.lines.Line2D at 0x1a1f3c3748>,\n",
       " <matplotlib.lines.Line2D at 0x1a1f3c3898>,\n",
       " <matplotlib.lines.Line2D at 0x1a1f3c39e8>,\n",
       " <matplotlib.lines.Line2D at 0x1a1f3c3b38>,\n",
       " <matplotlib.lines.Line2D at 0x1a1f3c3c88>,\n",
       " <matplotlib.lines.Line2D at 0x1a1f3c3dd8>,\n",
       " <matplotlib.lines.Line2D at 0x1a1f3c3f28>,\n",
       " <matplotlib.lines.Line2D at 0x1a1f3c80b8>,\n",
       " <matplotlib.lines.Line2D at 0x1a1f3c8208>,\n",
       " <matplotlib.lines.Line2D at 0x1a1f3c8358>,\n",
       " <matplotlib.lines.Line2D at 0x1a1f3c84a8>,\n",
       " <matplotlib.lines.Line2D at 0x1a1f3c85f8>,\n",
       " <matplotlib.lines.Line2D at 0x1a1f3c8748>,\n",
       " <matplotlib.lines.Line2D at 0x1a1f3c8898>,\n",
       " <matplotlib.lines.Line2D at 0x1a1f3c89e8>,\n",
       " <matplotlib.lines.Line2D at 0x1a1f3c8b38>,\n",
       " <matplotlib.lines.Line2D at 0x1a1f3c8c88>,\n",
       " <matplotlib.lines.Line2D at 0x1a1f3c8dd8>,\n",
       " <matplotlib.lines.Line2D at 0x1a1f3c8f28>,\n",
       " <matplotlib.lines.Line2D at 0x1a1f3cd0b8>,\n",
       " <matplotlib.lines.Line2D at 0x1a1f3cd208>,\n",
       " <matplotlib.lines.Line2D at 0x1a1f3cd358>,\n",
       " <matplotlib.lines.Line2D at 0x1a1f3cd4a8>,\n",
       " <matplotlib.lines.Line2D at 0x1a1f3cd5f8>,\n",
       " <matplotlib.lines.Line2D at 0x1a1f3cd748>,\n",
       " <matplotlib.lines.Line2D at 0x1a1f3cd898>,\n",
       " <matplotlib.lines.Line2D at 0x1a1f3cd9e8>,\n",
       " <matplotlib.lines.Line2D at 0x1a1f3cdb38>,\n",
       " <matplotlib.lines.Line2D at 0x1a1f3cdc88>,\n",
       " <matplotlib.lines.Line2D at 0x1a1f3cddd8>,\n",
       " <matplotlib.lines.Line2D at 0x1a1f3cdf28>,\n",
       " <matplotlib.lines.Line2D at 0x1a1f3d20b8>,\n",
       " <matplotlib.lines.Line2D at 0x1a1f3d2208>,\n",
       " <matplotlib.lines.Line2D at 0x1a1f3d2358>,\n",
       " <matplotlib.lines.Line2D at 0x1a1f3d24a8>,\n",
       " <matplotlib.lines.Line2D at 0x1a1f3d25f8>,\n",
       " <matplotlib.lines.Line2D at 0x1a1f3d2748>,\n",
       " <matplotlib.lines.Line2D at 0x1a1f3d2898>,\n",
       " <matplotlib.lines.Line2D at 0x1a1f3d29e8>,\n",
       " <matplotlib.lines.Line2D at 0x1a1f3d2b38>,\n",
       " <matplotlib.lines.Line2D at 0x1a1f3d2c88>,\n",
       " <matplotlib.lines.Line2D at 0x1a1f3d2dd8>,\n",
       " <matplotlib.lines.Line2D at 0x1a1f3d2f28>,\n",
       " <matplotlib.lines.Line2D at 0x1a1f3d70b8>,\n",
       " <matplotlib.lines.Line2D at 0x1a1f3d7208>,\n",
       " <matplotlib.lines.Line2D at 0x1a1f3d7358>,\n",
       " <matplotlib.lines.Line2D at 0x1a1f3d74a8>,\n",
       " <matplotlib.lines.Line2D at 0x1a1f3d75f8>,\n",
       " <matplotlib.lines.Line2D at 0x1a1f3d7748>,\n",
       " <matplotlib.lines.Line2D at 0x1a1f3d7898>,\n",
       " <matplotlib.lines.Line2D at 0x1a1f3d79e8>,\n",
       " <matplotlib.lines.Line2D at 0x1a1f3d7b38>,\n",
       " <matplotlib.lines.Line2D at 0x1a1f3d7c88>,\n",
       " <matplotlib.lines.Line2D at 0x1a1f3d7dd8>,\n",
       " <matplotlib.lines.Line2D at 0x1a1f3d7f28>,\n",
       " <matplotlib.lines.Line2D at 0x1a1f3dc0b8>,\n",
       " <matplotlib.lines.Line2D at 0x1a1f3dc208>,\n",
       " <matplotlib.lines.Line2D at 0x1a1f3dc358>,\n",
       " <matplotlib.lines.Line2D at 0x1a1f3dc4a8>,\n",
       " <matplotlib.lines.Line2D at 0x1a1f3dc5f8>,\n",
       " <matplotlib.lines.Line2D at 0x1a1f3dc748>,\n",
       " <matplotlib.lines.Line2D at 0x1a1f3dc898>,\n",
       " <matplotlib.lines.Line2D at 0x1a1f3dc9e8>,\n",
       " <matplotlib.lines.Line2D at 0x1a1f3dcb38>,\n",
       " <matplotlib.lines.Line2D at 0x1a1f3dcc88>,\n",
       " <matplotlib.lines.Line2D at 0x1a1f3dcdd8>,\n",
       " <matplotlib.lines.Line2D at 0x1a1f3dcf28>,\n",
       " <matplotlib.lines.Line2D at 0x1a1f3e10b8>,\n",
       " <matplotlib.lines.Line2D at 0x1a1f3e1208>,\n",
       " <matplotlib.lines.Line2D at 0x1a1f3e1358>,\n",
       " <matplotlib.lines.Line2D at 0x1a1f3e14a8>,\n",
       " <matplotlib.lines.Line2D at 0x1a1f3e15f8>,\n",
       " <matplotlib.lines.Line2D at 0x1a1f3e1748>,\n",
       " <matplotlib.lines.Line2D at 0x1a1f3e1898>,\n",
       " <matplotlib.lines.Line2D at 0x1a1f3e19e8>,\n",
       " <matplotlib.lines.Line2D at 0x1a1f3e1b38>,\n",
       " <matplotlib.lines.Line2D at 0x1a1f3e1c88>,\n",
       " <matplotlib.lines.Line2D at 0x1a1f3e1dd8>,\n",
       " <matplotlib.lines.Line2D at 0x1a1f3e1f28>,\n",
       " <matplotlib.lines.Line2D at 0x1a1f3e60b8>,\n",
       " <matplotlib.lines.Line2D at 0x1a1f3e6208>,\n",
       " <matplotlib.lines.Line2D at 0x1a1f3e6358>,\n",
       " <matplotlib.lines.Line2D at 0x1a1f3e64a8>,\n",
       " <matplotlib.lines.Line2D at 0x1a1f3e65f8>,\n",
       " <matplotlib.lines.Line2D at 0x1a1f3e6748>,\n",
       " <matplotlib.lines.Line2D at 0x1a1f3e6898>,\n",
       " <matplotlib.lines.Line2D at 0x1a1f3e69e8>,\n",
       " <matplotlib.lines.Line2D at 0x1a1f3e6b38>,\n",
       " <matplotlib.lines.Line2D at 0x1a1f3e6c88>,\n",
       " <matplotlib.lines.Line2D at 0x1a1f3e6dd8>,\n",
       " <matplotlib.lines.Line2D at 0x1a1f3e6f28>,\n",
       " <matplotlib.lines.Line2D at 0x1a1f3ec0b8>,\n",
       " <matplotlib.lines.Line2D at 0x1a1f3ec208>,\n",
       " <matplotlib.lines.Line2D at 0x1a1f3ec358>,\n",
       " <matplotlib.lines.Line2D at 0x1a1f3ec4a8>,\n",
       " <matplotlib.lines.Line2D at 0x1a1f3ec5f8>,\n",
       " <matplotlib.lines.Line2D at 0x1a1f3ec748>,\n",
       " <matplotlib.lines.Line2D at 0x1a1f3ec898>,\n",
       " <matplotlib.lines.Line2D at 0x1a1f3ec9e8>,\n",
       " <matplotlib.lines.Line2D at 0x1a1f3ecb38>,\n",
       " <matplotlib.lines.Line2D at 0x1a1f3ecc88>,\n",
       " <matplotlib.lines.Line2D at 0x1a1f3ecdd8>,\n",
       " <matplotlib.lines.Line2D at 0x1a1f3ecf28>,\n",
       " <matplotlib.lines.Line2D at 0x1a1f3f20b8>,\n",
       " <matplotlib.lines.Line2D at 0x1a1f3f2208>,\n",
       " <matplotlib.lines.Line2D at 0x1a1f3f2358>,\n",
       " <matplotlib.lines.Line2D at 0x1a1f3f24a8>,\n",
       " <matplotlib.lines.Line2D at 0x1a1f3f25f8>,\n",
       " <matplotlib.lines.Line2D at 0x1a1f3f2748>,\n",
       " <matplotlib.lines.Line2D at 0x1a1f3f2898>,\n",
       " <matplotlib.lines.Line2D at 0x1a1f3f29e8>,\n",
       " <matplotlib.lines.Line2D at 0x1a1f3f2b38>,\n",
       " <matplotlib.lines.Line2D at 0x1a1f3f2c88>,\n",
       " <matplotlib.lines.Line2D at 0x1a1f3f2dd8>,\n",
       " <matplotlib.lines.Line2D at 0x1a1f3f2f28>,\n",
       " <matplotlib.lines.Line2D at 0x1a1f3f60b8>,\n",
       " <matplotlib.lines.Line2D at 0x1a1f3f6208>,\n",
       " <matplotlib.lines.Line2D at 0x1a1f3f6358>,\n",
       " <matplotlib.lines.Line2D at 0x1a1f3f64a8>,\n",
       " <matplotlib.lines.Line2D at 0x1a1f3f65f8>,\n",
       " <matplotlib.lines.Line2D at 0x1a1f3f6748>,\n",
       " <matplotlib.lines.Line2D at 0x1a1f3f6898>,\n",
       " <matplotlib.lines.Line2D at 0x1a1f3f69e8>,\n",
       " <matplotlib.lines.Line2D at 0x1a1f3f6b38>,\n",
       " <matplotlib.lines.Line2D at 0x1a1f3f6c88>,\n",
       " <matplotlib.lines.Line2D at 0x1a1f3f6dd8>,\n",
       " <matplotlib.lines.Line2D at 0x1a1f3f6f28>,\n",
       " <matplotlib.lines.Line2D at 0x1a1f3fb0b8>,\n",
       " <matplotlib.lines.Line2D at 0x1a1f3fb208>,\n",
       " <matplotlib.lines.Line2D at 0x1a1f3fb358>,\n",
       " <matplotlib.lines.Line2D at 0x1a1f3fb4a8>,\n",
       " <matplotlib.lines.Line2D at 0x1a1f3fb5f8>,\n",
       " <matplotlib.lines.Line2D at 0x1a1f3fb748>,\n",
       " <matplotlib.lines.Line2D at 0x1a1f3fb898>,\n",
       " <matplotlib.lines.Line2D at 0x1a1f3fb9e8>,\n",
       " <matplotlib.lines.Line2D at 0x1a1f3fbb38>,\n",
       " <matplotlib.lines.Line2D at 0x1a1f3fbc88>,\n",
       " <matplotlib.lines.Line2D at 0x1a1f3fbdd8>,\n",
       " <matplotlib.lines.Line2D at 0x1a1f3fbf28>,\n",
       " <matplotlib.lines.Line2D at 0x1a1f4000b8>,\n",
       " <matplotlib.lines.Line2D at 0x1a1f400208>,\n",
       " <matplotlib.lines.Line2D at 0x1a1f400358>,\n",
       " <matplotlib.lines.Line2D at 0x1a1f4004a8>,\n",
       " <matplotlib.lines.Line2D at 0x1a1f4005f8>,\n",
       " <matplotlib.lines.Line2D at 0x1a1f400748>,\n",
       " <matplotlib.lines.Line2D at 0x1a1f400898>,\n",
       " <matplotlib.lines.Line2D at 0x1a1f4009e8>,\n",
       " <matplotlib.lines.Line2D at 0x1a1f400b38>,\n",
       " <matplotlib.lines.Line2D at 0x1a1f400c88>,\n",
       " <matplotlib.lines.Line2D at 0x1a1f400dd8>,\n",
       " <matplotlib.lines.Line2D at 0x1a1f400f28>,\n",
       " <matplotlib.lines.Line2D at 0x1a1f4060b8>,\n",
       " <matplotlib.lines.Line2D at 0x1a1f406208>,\n",
       " <matplotlib.lines.Line2D at 0x1a1f406358>,\n",
       " <matplotlib.lines.Line2D at 0x1a1f4064a8>,\n",
       " <matplotlib.lines.Line2D at 0x1a1f4065f8>,\n",
       " <matplotlib.lines.Line2D at 0x1a1f406748>,\n",
       " <matplotlib.lines.Line2D at 0x1a1f406898>,\n",
       " <matplotlib.lines.Line2D at 0x1a1f4069e8>,\n",
       " <matplotlib.lines.Line2D at 0x1a1f406b38>,\n",
       " <matplotlib.lines.Line2D at 0x1a1f406c88>,\n",
       " <matplotlib.lines.Line2D at 0x1a1f406dd8>,\n",
       " <matplotlib.lines.Line2D at 0x1a1f406f28>,\n",
       " <matplotlib.lines.Line2D at 0x1a1f40b0b8>,\n",
       " <matplotlib.lines.Line2D at 0x1a1f40b208>,\n",
       " <matplotlib.lines.Line2D at 0x1a1f40b358>,\n",
       " <matplotlib.lines.Line2D at 0x1a1f40b4a8>,\n",
       " <matplotlib.lines.Line2D at 0x1a1f40b5f8>,\n",
       " <matplotlib.lines.Line2D at 0x1a1f40b748>,\n",
       " <matplotlib.lines.Line2D at 0x1a1f40b898>,\n",
       " <matplotlib.lines.Line2D at 0x1a1f40b9e8>,\n",
       " <matplotlib.lines.Line2D at 0x1a1f40bb38>,\n",
       " <matplotlib.lines.Line2D at 0x1a1f40bc88>,\n",
       " <matplotlib.lines.Line2D at 0x1a1f40bdd8>,\n",
       " <matplotlib.lines.Line2D at 0x1a1f40bf28>,\n",
       " <matplotlib.lines.Line2D at 0x1a1f40f0b8>,\n",
       " <matplotlib.lines.Line2D at 0x1a1f40f208>,\n",
       " <matplotlib.lines.Line2D at 0x1a1f40f358>,\n",
       " <matplotlib.lines.Line2D at 0x1a1f40f4a8>,\n",
       " <matplotlib.lines.Line2D at 0x1a1f40f5f8>,\n",
       " <matplotlib.lines.Line2D at 0x1a1f40f748>,\n",
       " <matplotlib.lines.Line2D at 0x1a1f40f898>,\n",
       " <matplotlib.lines.Line2D at 0x1a1f40f9e8>,\n",
       " <matplotlib.lines.Line2D at 0x1a1f40fb38>,\n",
       " <matplotlib.lines.Line2D at 0x1a1f40fc88>,\n",
       " <matplotlib.lines.Line2D at 0x1a1f40fdd8>,\n",
       " <matplotlib.lines.Line2D at 0x1a1f40ff28>,\n",
       " <matplotlib.lines.Line2D at 0x1a1f4160b8>,\n",
       " <matplotlib.lines.Line2D at 0x1a1f416208>,\n",
       " <matplotlib.lines.Line2D at 0x1a1f416358>,\n",
       " <matplotlib.lines.Line2D at 0x1a1f4164a8>,\n",
       " <matplotlib.lines.Line2D at 0x1a1f4165f8>,\n",
       " <matplotlib.lines.Line2D at 0x1a1f416748>,\n",
       " <matplotlib.lines.Line2D at 0x1a1f416898>,\n",
       " <matplotlib.lines.Line2D at 0x1a1f4169e8>,\n",
       " <matplotlib.lines.Line2D at 0x1a1f416b38>,\n",
       " <matplotlib.lines.Line2D at 0x1a1f416c88>,\n",
       " <matplotlib.lines.Line2D at 0x1a1f416dd8>,\n",
       " <matplotlib.lines.Line2D at 0x1a1f416f28>,\n",
       " <matplotlib.lines.Line2D at 0x1a1f41b0b8>,\n",
       " <matplotlib.lines.Line2D at 0x1a1f41b208>,\n",
       " <matplotlib.lines.Line2D at 0x1a1f41b358>,\n",
       " <matplotlib.lines.Line2D at 0x1a1f41b4a8>,\n",
       " <matplotlib.lines.Line2D at 0x1a1f41b5f8>,\n",
       " <matplotlib.lines.Line2D at 0x1a1f41b748>,\n",
       " <matplotlib.lines.Line2D at 0x1a1f41b898>,\n",
       " <matplotlib.lines.Line2D at 0x1a1f41b9e8>,\n",
       " <matplotlib.lines.Line2D at 0x1a1f41bb38>,\n",
       " <matplotlib.lines.Line2D at 0x1a1f41bc88>,\n",
       " <matplotlib.lines.Line2D at 0x1a1f41bdd8>,\n",
       " <matplotlib.lines.Line2D at 0x1a1f41bf28>,\n",
       " <matplotlib.lines.Line2D at 0x1a1f4200b8>,\n",
       " <matplotlib.lines.Line2D at 0x1a1f420208>,\n",
       " <matplotlib.lines.Line2D at 0x1a1f420358>,\n",
       " <matplotlib.lines.Line2D at 0x1a1f4204a8>,\n",
       " <matplotlib.lines.Line2D at 0x1a1f4205f8>,\n",
       " <matplotlib.lines.Line2D at 0x1a1f420748>,\n",
       " <matplotlib.lines.Line2D at 0x1a1f420898>,\n",
       " <matplotlib.lines.Line2D at 0x1a1f4209e8>,\n",
       " <matplotlib.lines.Line2D at 0x1a1f420b38>,\n",
       " <matplotlib.lines.Line2D at 0x1a1f420c88>,\n",
       " <matplotlib.lines.Line2D at 0x1a1f420dd8>,\n",
       " <matplotlib.lines.Line2D at 0x1a1f420f28>,\n",
       " <matplotlib.lines.Line2D at 0x1a1f4240b8>,\n",
       " <matplotlib.lines.Line2D at 0x1a1f424208>,\n",
       " <matplotlib.lines.Line2D at 0x1a1f424358>,\n",
       " <matplotlib.lines.Line2D at 0x1a1f4244a8>,\n",
       " <matplotlib.lines.Line2D at 0x1a1f4245f8>,\n",
       " <matplotlib.lines.Line2D at 0x1a1f424748>,\n",
       " <matplotlib.lines.Line2D at 0x1a1f424898>,\n",
       " <matplotlib.lines.Line2D at 0x1a1f4249e8>,\n",
       " <matplotlib.lines.Line2D at 0x1a1f424b38>,\n",
       " <matplotlib.lines.Line2D at 0x1a1f424c88>,\n",
       " <matplotlib.lines.Line2D at 0x1a1f424dd8>,\n",
       " <matplotlib.lines.Line2D at 0x1a1f424f28>,\n",
       " <matplotlib.lines.Line2D at 0x1a1f4290b8>,\n",
       " <matplotlib.lines.Line2D at 0x1a1f429208>,\n",
       " <matplotlib.lines.Line2D at 0x1a1f429358>,\n",
       " <matplotlib.lines.Line2D at 0x1a1f4294a8>,\n",
       " <matplotlib.lines.Line2D at 0x1a1f4295f8>,\n",
       " <matplotlib.lines.Line2D at 0x1a1f429748>,\n",
       " <matplotlib.lines.Line2D at 0x1a1f429898>,\n",
       " <matplotlib.lines.Line2D at 0x1a1f4299e8>,\n",
       " <matplotlib.lines.Line2D at 0x1a1f429b38>,\n",
       " <matplotlib.lines.Line2D at 0x1a1f429c88>,\n",
       " <matplotlib.lines.Line2D at 0x1a1f429dd8>,\n",
       " <matplotlib.lines.Line2D at 0x1a1f429f28>,\n",
       " <matplotlib.lines.Line2D at 0x1a1f42f0b8>,\n",
       " <matplotlib.lines.Line2D at 0x1a1f42f208>,\n",
       " <matplotlib.lines.Line2D at 0x1a1f42f358>,\n",
       " <matplotlib.lines.Line2D at 0x1a1f42f4a8>,\n",
       " <matplotlib.lines.Line2D at 0x1a1f42f5f8>,\n",
       " <matplotlib.lines.Line2D at 0x1a1f42f748>,\n",
       " <matplotlib.lines.Line2D at 0x1a1f42f898>,\n",
       " <matplotlib.lines.Line2D at 0x1a1f42f9e8>,\n",
       " <matplotlib.lines.Line2D at 0x1a1f42fb38>,\n",
       " <matplotlib.lines.Line2D at 0x1a1f42fc88>,\n",
       " <matplotlib.lines.Line2D at 0x1a1f42fdd8>,\n",
       " <matplotlib.lines.Line2D at 0x1a1f42ff28>,\n",
       " <matplotlib.lines.Line2D at 0x1a1f4330b8>,\n",
       " <matplotlib.lines.Line2D at 0x1a1f433208>,\n",
       " <matplotlib.lines.Line2D at 0x1a1f433358>,\n",
       " <matplotlib.lines.Line2D at 0x1a1f4334a8>,\n",
       " <matplotlib.lines.Line2D at 0x1a1f4335f8>,\n",
       " <matplotlib.lines.Line2D at 0x1a1f433748>,\n",
       " <matplotlib.lines.Line2D at 0x1a1f433898>,\n",
       " <matplotlib.lines.Line2D at 0x1a1f4339e8>,\n",
       " <matplotlib.lines.Line2D at 0x1a1f433b38>,\n",
       " <matplotlib.lines.Line2D at 0x1a1f433c88>,\n",
       " <matplotlib.lines.Line2D at 0x1a1f433dd8>,\n",
       " <matplotlib.lines.Line2D at 0x1a1f433f28>,\n",
       " <matplotlib.lines.Line2D at 0x1a1f4390b8>,\n",
       " <matplotlib.lines.Line2D at 0x1a1f439208>,\n",
       " <matplotlib.lines.Line2D at 0x1a1f439358>,\n",
       " <matplotlib.lines.Line2D at 0x1a1f4394a8>,\n",
       " <matplotlib.lines.Line2D at 0x1a1f4395f8>,\n",
       " <matplotlib.lines.Line2D at 0x1a1f439748>,\n",
       " <matplotlib.lines.Line2D at 0x1a1f439898>,\n",
       " <matplotlib.lines.Line2D at 0x1a1f4399e8>,\n",
       " <matplotlib.lines.Line2D at 0x1a1f439b38>,\n",
       " <matplotlib.lines.Line2D at 0x1a1f439c88>,\n",
       " <matplotlib.lines.Line2D at 0x1a1f439dd8>,\n",
       " <matplotlib.lines.Line2D at 0x1a1f439f28>,\n",
       " <matplotlib.lines.Line2D at 0x1a1f43e0b8>,\n",
       " <matplotlib.lines.Line2D at 0x1a1f43e208>,\n",
       " <matplotlib.lines.Line2D at 0x1a1f43e358>,\n",
       " <matplotlib.lines.Line2D at 0x1a1f43e4a8>,\n",
       " <matplotlib.lines.Line2D at 0x1a1f43e5f8>,\n",
       " <matplotlib.lines.Line2D at 0x1a1f43e748>,\n",
       " <matplotlib.lines.Line2D at 0x1a1f43e898>,\n",
       " <matplotlib.lines.Line2D at 0x1a1f43e9e8>,\n",
       " <matplotlib.lines.Line2D at 0x1a1f43eb38>,\n",
       " <matplotlib.lines.Line2D at 0x1a1f43ec88>,\n",
       " <matplotlib.lines.Line2D at 0x1a1f43edd8>,\n",
       " <matplotlib.lines.Line2D at 0x1a1f43ef28>,\n",
       " <matplotlib.lines.Line2D at 0x1a1f4440b8>,\n",
       " <matplotlib.lines.Line2D at 0x1a1f444208>,\n",
       " <matplotlib.lines.Line2D at 0x1a1f444358>,\n",
       " <matplotlib.lines.Line2D at 0x1a1f4444a8>,\n",
       " <matplotlib.lines.Line2D at 0x1a1f4445f8>,\n",
       " <matplotlib.lines.Line2D at 0x1a1f444748>,\n",
       " <matplotlib.lines.Line2D at 0x1a1f444898>,\n",
       " <matplotlib.lines.Line2D at 0x1a1f4449e8>,\n",
       " <matplotlib.lines.Line2D at 0x1a1f444b38>,\n",
       " <matplotlib.lines.Line2D at 0x1a1f444c88>,\n",
       " <matplotlib.lines.Line2D at 0x1a1f444dd8>,\n",
       " <matplotlib.lines.Line2D at 0x1a1f444f28>,\n",
       " <matplotlib.lines.Line2D at 0x1a1f4480b8>,\n",
       " <matplotlib.lines.Line2D at 0x1a1f448208>,\n",
       " <matplotlib.lines.Line2D at 0x1a1f448358>,\n",
       " <matplotlib.lines.Line2D at 0x1a1f4484a8>,\n",
       " <matplotlib.lines.Line2D at 0x1a1f4485f8>,\n",
       " <matplotlib.lines.Line2D at 0x1a1f448748>,\n",
       " <matplotlib.lines.Line2D at 0x1a1f448898>,\n",
       " <matplotlib.lines.Line2D at 0x1a1f4489e8>,\n",
       " <matplotlib.lines.Line2D at 0x1a1f448b38>,\n",
       " <matplotlib.lines.Line2D at 0x1a1f448c88>,\n",
       " <matplotlib.lines.Line2D at 0x1a1f448dd8>,\n",
       " <matplotlib.lines.Line2D at 0x1a1f448f28>,\n",
       " <matplotlib.lines.Line2D at 0x1a1f44e0b8>,\n",
       " <matplotlib.lines.Line2D at 0x1a1f44e208>,\n",
       " <matplotlib.lines.Line2D at 0x1a1f44e358>,\n",
       " <matplotlib.lines.Line2D at 0x1a1f44e4a8>,\n",
       " <matplotlib.lines.Line2D at 0x1a1f44e5f8>,\n",
       " <matplotlib.lines.Line2D at 0x1a1f44e748>,\n",
       " <matplotlib.lines.Line2D at 0x1a1f44e898>,\n",
       " <matplotlib.lines.Line2D at 0x1a1f44e9e8>,\n",
       " <matplotlib.lines.Line2D at 0x1a1f44eb38>,\n",
       " <matplotlib.lines.Line2D at 0x1a1f44ec88>,\n",
       " <matplotlib.lines.Line2D at 0x1a1f44edd8>,\n",
       " <matplotlib.lines.Line2D at 0x1a1f44ef28>,\n",
       " <matplotlib.lines.Line2D at 0x1a1f4520b8>,\n",
       " <matplotlib.lines.Line2D at 0x1a1f452208>,\n",
       " <matplotlib.lines.Line2D at 0x1a1f452358>,\n",
       " <matplotlib.lines.Line2D at 0x1a1f4524a8>,\n",
       " <matplotlib.lines.Line2D at 0x1a1f4525f8>,\n",
       " <matplotlib.lines.Line2D at 0x1a1f452748>,\n",
       " <matplotlib.lines.Line2D at 0x1a1f452898>,\n",
       " <matplotlib.lines.Line2D at 0x1a1f4529e8>,\n",
       " <matplotlib.lines.Line2D at 0x1a1f452b38>,\n",
       " <matplotlib.lines.Line2D at 0x1a1f452c88>,\n",
       " <matplotlib.lines.Line2D at 0x1a1f452dd8>,\n",
       " <matplotlib.lines.Line2D at 0x1a1f452f28>,\n",
       " <matplotlib.lines.Line2D at 0x1a1f4580b8>,\n",
       " <matplotlib.lines.Line2D at 0x1a1f458208>,\n",
       " <matplotlib.lines.Line2D at 0x1a1f458358>,\n",
       " <matplotlib.lines.Line2D at 0x1a1f4584a8>,\n",
       " <matplotlib.lines.Line2D at 0x1a1f4585f8>,\n",
       " <matplotlib.lines.Line2D at 0x1a1f458748>,\n",
       " <matplotlib.lines.Line2D at 0x1a1f458898>,\n",
       " <matplotlib.lines.Line2D at 0x1a1f4589e8>,\n",
       " <matplotlib.lines.Line2D at 0x1a1f458b38>,\n",
       " <matplotlib.lines.Line2D at 0x1a1f458c88>,\n",
       " <matplotlib.lines.Line2D at 0x1a1f458dd8>,\n",
       " <matplotlib.lines.Line2D at 0x1a1f458f28>,\n",
       " <matplotlib.lines.Line2D at 0x1a1f45d0b8>,\n",
       " <matplotlib.lines.Line2D at 0x1a1f45d208>,\n",
       " <matplotlib.lines.Line2D at 0x1a1f45d358>,\n",
       " <matplotlib.lines.Line2D at 0x1a1f45d4a8>,\n",
       " <matplotlib.lines.Line2D at 0x1a1f45d5f8>,\n",
       " <matplotlib.lines.Line2D at 0x1a1f45d748>,\n",
       " <matplotlib.lines.Line2D at 0x1a1f45d898>,\n",
       " <matplotlib.lines.Line2D at 0x1a1f45d9e8>,\n",
       " <matplotlib.lines.Line2D at 0x1a1f45db38>,\n",
       " <matplotlib.lines.Line2D at 0x1a1f45dc88>,\n",
       " <matplotlib.lines.Line2D at 0x1a1f45ddd8>,\n",
       " <matplotlib.lines.Line2D at 0x1a1f45df28>,\n",
       " <matplotlib.lines.Line2D at 0x1a1f4620b8>,\n",
       " <matplotlib.lines.Line2D at 0x1a1f462208>,\n",
       " <matplotlib.lines.Line2D at 0x1a1f462358>,\n",
       " <matplotlib.lines.Line2D at 0x1a1f4624a8>,\n",
       " <matplotlib.lines.Line2D at 0x1a1f4625f8>,\n",
       " <matplotlib.lines.Line2D at 0x1a1f462748>,\n",
       " <matplotlib.lines.Line2D at 0x1a1f462898>,\n",
       " <matplotlib.lines.Line2D at 0x1a1f4629e8>,\n",
       " <matplotlib.lines.Line2D at 0x1a1f462b38>,\n",
       " <matplotlib.lines.Line2D at 0x1a1f462c88>,\n",
       " <matplotlib.lines.Line2D at 0x1a1f462dd8>,\n",
       " <matplotlib.lines.Line2D at 0x1a1f462f28>,\n",
       " <matplotlib.lines.Line2D at 0x1a1f4660b8>,\n",
       " <matplotlib.lines.Line2D at 0x1a1f466208>,\n",
       " <matplotlib.lines.Line2D at 0x1a1f466358>,\n",
       " <matplotlib.lines.Line2D at 0x1a1f4664a8>,\n",
       " <matplotlib.lines.Line2D at 0x1a1f4665f8>,\n",
       " <matplotlib.lines.Line2D at 0x1a1f466748>,\n",
       " <matplotlib.lines.Line2D at 0x1a1f466898>,\n",
       " <matplotlib.lines.Line2D at 0x1a1f4669e8>,\n",
       " <matplotlib.lines.Line2D at 0x1a1f466b38>,\n",
       " <matplotlib.lines.Line2D at 0x1a1f466c88>,\n",
       " <matplotlib.lines.Line2D at 0x1a1f466dd8>,\n",
       " <matplotlib.lines.Line2D at 0x1a1f466f28>,\n",
       " <matplotlib.lines.Line2D at 0x1a1f46d0b8>,\n",
       " <matplotlib.lines.Line2D at 0x1a1f46d208>,\n",
       " <matplotlib.lines.Line2D at 0x1a1f46d358>,\n",
       " <matplotlib.lines.Line2D at 0x1a1f46d4a8>,\n",
       " <matplotlib.lines.Line2D at 0x1a1f46d5f8>,\n",
       " <matplotlib.lines.Line2D at 0x1a1f46d748>,\n",
       " <matplotlib.lines.Line2D at 0x1a1f46d898>,\n",
       " <matplotlib.lines.Line2D at 0x1a1f46d9e8>,\n",
       " <matplotlib.lines.Line2D at 0x1a1f46db38>,\n",
       " <matplotlib.lines.Line2D at 0x1a1f46dc88>,\n",
       " <matplotlib.lines.Line2D at 0x1a1f46ddd8>,\n",
       " <matplotlib.lines.Line2D at 0x1a1f46df28>,\n",
       " <matplotlib.lines.Line2D at 0x1a1f4720b8>,\n",
       " <matplotlib.lines.Line2D at 0x1a1f472208>,\n",
       " <matplotlib.lines.Line2D at 0x1a1f472358>,\n",
       " <matplotlib.lines.Line2D at 0x1a1f4724a8>,\n",
       " <matplotlib.lines.Line2D at 0x1a1f4725f8>,\n",
       " <matplotlib.lines.Line2D at 0x1a1f472748>,\n",
       " <matplotlib.lines.Line2D at 0x1a1f472898>,\n",
       " <matplotlib.lines.Line2D at 0x1a1f4729e8>,\n",
       " <matplotlib.lines.Line2D at 0x1a1f472b38>,\n",
       " <matplotlib.lines.Line2D at 0x1a1f472c88>,\n",
       " <matplotlib.lines.Line2D at 0x1a1f472dd8>,\n",
       " <matplotlib.lines.Line2D at 0x1a1f472f28>,\n",
       " <matplotlib.lines.Line2D at 0x1a1f4780b8>,\n",
       " <matplotlib.lines.Line2D at 0x1a1f478208>,\n",
       " <matplotlib.lines.Line2D at 0x1a1f478358>,\n",
       " <matplotlib.lines.Line2D at 0x1a1f4784a8>,\n",
       " <matplotlib.lines.Line2D at 0x1a1f4785f8>,\n",
       " <matplotlib.lines.Line2D at 0x1a1f478748>,\n",
       " <matplotlib.lines.Line2D at 0x1a1f478898>,\n",
       " <matplotlib.lines.Line2D at 0x1a1f4789e8>,\n",
       " <matplotlib.lines.Line2D at 0x1a1f478b38>,\n",
       " <matplotlib.lines.Line2D at 0x1a1f478c88>,\n",
       " <matplotlib.lines.Line2D at 0x1a1f478dd8>,\n",
       " <matplotlib.lines.Line2D at 0x1a1f478f28>,\n",
       " <matplotlib.lines.Line2D at 0x1a1f47b0b8>,\n",
       " <matplotlib.lines.Line2D at 0x1a1f47b208>,\n",
       " <matplotlib.lines.Line2D at 0x1a1f47b358>,\n",
       " <matplotlib.lines.Line2D at 0x1a1f47b4a8>,\n",
       " <matplotlib.lines.Line2D at 0x1a1f47b5f8>,\n",
       " <matplotlib.lines.Line2D at 0x1a1f47b748>,\n",
       " <matplotlib.lines.Line2D at 0x1a1f47b898>,\n",
       " <matplotlib.lines.Line2D at 0x1a1f47b9e8>,\n",
       " <matplotlib.lines.Line2D at 0x1a1f47bb38>,\n",
       " <matplotlib.lines.Line2D at 0x1a1f47bc88>,\n",
       " <matplotlib.lines.Line2D at 0x1a1f47bdd8>,\n",
       " <matplotlib.lines.Line2D at 0x1a1f47bf28>,\n",
       " <matplotlib.lines.Line2D at 0x1a1f4820b8>,\n",
       " <matplotlib.lines.Line2D at 0x1a1f482208>,\n",
       " <matplotlib.lines.Line2D at 0x1a1f482358>,\n",
       " <matplotlib.lines.Line2D at 0x1a1f4824a8>,\n",
       " <matplotlib.lines.Line2D at 0x1a1f4825f8>,\n",
       " <matplotlib.lines.Line2D at 0x1a1f482748>,\n",
       " <matplotlib.lines.Line2D at 0x1a1f482898>,\n",
       " <matplotlib.lines.Line2D at 0x1a1f4829e8>,\n",
       " <matplotlib.lines.Line2D at 0x1a1f482b38>,\n",
       " <matplotlib.lines.Line2D at 0x1a1f482c88>,\n",
       " <matplotlib.lines.Line2D at 0x1a1f482dd8>,\n",
       " <matplotlib.lines.Line2D at 0x1a1f482f28>,\n",
       " <matplotlib.lines.Line2D at 0x1a1f4860b8>,\n",
       " <matplotlib.lines.Line2D at 0x1a1f486208>,\n",
       " <matplotlib.lines.Line2D at 0x1a1f486358>,\n",
       " <matplotlib.lines.Line2D at 0x1a1f4864a8>,\n",
       " <matplotlib.lines.Line2D at 0x1a1f4865f8>,\n",
       " <matplotlib.lines.Line2D at 0x1a1f486748>,\n",
       " <matplotlib.lines.Line2D at 0x1a1f486898>,\n",
       " <matplotlib.lines.Line2D at 0x1a1f4869e8>,\n",
       " <matplotlib.lines.Line2D at 0x1a1f486b38>,\n",
       " <matplotlib.lines.Line2D at 0x1a1f486c88>,\n",
       " <matplotlib.lines.Line2D at 0x1a1f486dd8>,\n",
       " <matplotlib.lines.Line2D at 0x1a1f486f28>,\n",
       " <matplotlib.lines.Line2D at 0x1a1f48c0b8>,\n",
       " <matplotlib.lines.Line2D at 0x1a1f48c208>,\n",
       " <matplotlib.lines.Line2D at 0x1a1f48c358>,\n",
       " <matplotlib.lines.Line2D at 0x1a1f48c4a8>,\n",
       " <matplotlib.lines.Line2D at 0x1a1f48c5f8>,\n",
       " <matplotlib.lines.Line2D at 0x1a1f48c748>,\n",
       " <matplotlib.lines.Line2D at 0x1a1f48c898>,\n",
       " <matplotlib.lines.Line2D at 0x1a1f48c9e8>,\n",
       " <matplotlib.lines.Line2D at 0x1a1f48cb38>,\n",
       " <matplotlib.lines.Line2D at 0x1a1f48cc88>,\n",
       " <matplotlib.lines.Line2D at 0x1a1f48cdd8>,\n",
       " <matplotlib.lines.Line2D at 0x1a1f48cf28>,\n",
       " <matplotlib.lines.Line2D at 0x1a1f48f0b8>,\n",
       " <matplotlib.lines.Line2D at 0x1a1f48f208>,\n",
       " <matplotlib.lines.Line2D at 0x1a1f48f358>,\n",
       " <matplotlib.lines.Line2D at 0x1a1f48f4a8>,\n",
       " <matplotlib.lines.Line2D at 0x1a1f48f5f8>,\n",
       " <matplotlib.lines.Line2D at 0x1a1f48f748>,\n",
       " <matplotlib.lines.Line2D at 0x1a1f48f898>,\n",
       " <matplotlib.lines.Line2D at 0x1a1f48f9e8>,\n",
       " <matplotlib.lines.Line2D at 0x1a1f48fb38>,\n",
       " <matplotlib.lines.Line2D at 0x1a1f48fc88>,\n",
       " <matplotlib.lines.Line2D at 0x1a1f48fdd8>,\n",
       " <matplotlib.lines.Line2D at 0x1a1f48ff28>,\n",
       " <matplotlib.lines.Line2D at 0x1a1f4970b8>,\n",
       " <matplotlib.lines.Line2D at 0x1a1f497208>,\n",
       " <matplotlib.lines.Line2D at 0x1a1f497358>,\n",
       " <matplotlib.lines.Line2D at 0x1a1f4974a8>,\n",
       " <matplotlib.lines.Line2D at 0x1a1f4975f8>,\n",
       " <matplotlib.lines.Line2D at 0x1a1f497748>,\n",
       " <matplotlib.lines.Line2D at 0x1a1f497898>,\n",
       " <matplotlib.lines.Line2D at 0x1a1f4979e8>,\n",
       " <matplotlib.lines.Line2D at 0x1a1f497b38>,\n",
       " <matplotlib.lines.Line2D at 0x1a1f497c88>,\n",
       " <matplotlib.lines.Line2D at 0x1a1f497dd8>,\n",
       " <matplotlib.lines.Line2D at 0x1a1f497f28>,\n",
       " <matplotlib.lines.Line2D at 0x1a1f49b0b8>,\n",
       " <matplotlib.lines.Line2D at 0x1a1f49b208>,\n",
       " <matplotlib.lines.Line2D at 0x1a1f49b358>,\n",
       " <matplotlib.lines.Line2D at 0x1a1f49b4a8>,\n",
       " <matplotlib.lines.Line2D at 0x1a1f49b5f8>,\n",
       " <matplotlib.lines.Line2D at 0x1a1f49b748>,\n",
       " <matplotlib.lines.Line2D at 0x1a1f49b898>,\n",
       " <matplotlib.lines.Line2D at 0x1a1f49b9e8>,\n",
       " <matplotlib.lines.Line2D at 0x1a1f49bb38>,\n",
       " <matplotlib.lines.Line2D at 0x1a1f49bc88>,\n",
       " <matplotlib.lines.Line2D at 0x1a1f49bdd8>,\n",
       " <matplotlib.lines.Line2D at 0x1a1f49bf28>,\n",
       " <matplotlib.lines.Line2D at 0x1a1f4a10b8>,\n",
       " <matplotlib.lines.Line2D at 0x1a1f4a1208>,\n",
       " <matplotlib.lines.Line2D at 0x1a1f4a1358>,\n",
       " <matplotlib.lines.Line2D at 0x1a1f4a14a8>,\n",
       " <matplotlib.lines.Line2D at 0x1a1f4a15f8>,\n",
       " <matplotlib.lines.Line2D at 0x1a1f4a1748>,\n",
       " <matplotlib.lines.Line2D at 0x1a1f4a1898>,\n",
       " <matplotlib.lines.Line2D at 0x1a1f4a19e8>,\n",
       " <matplotlib.lines.Line2D at 0x1a1f4a1b38>,\n",
       " <matplotlib.lines.Line2D at 0x1a1f4a1c88>,\n",
       " <matplotlib.lines.Line2D at 0x1a1f4a1dd8>,\n",
       " <matplotlib.lines.Line2D at 0x1a1f4a1f28>,\n",
       " <matplotlib.lines.Line2D at 0x1a1f4a50b8>,\n",
       " <matplotlib.lines.Line2D at 0x1a1f4a5208>,\n",
       " <matplotlib.lines.Line2D at 0x1a1f4a5358>,\n",
       " <matplotlib.lines.Line2D at 0x1a1f4a54a8>,\n",
       " <matplotlib.lines.Line2D at 0x1a1f4a55f8>,\n",
       " <matplotlib.lines.Line2D at 0x1a1f4a5748>,\n",
       " <matplotlib.lines.Line2D at 0x1a1f4a5898>,\n",
       " <matplotlib.lines.Line2D at 0x1a1f4a59e8>,\n",
       " <matplotlib.lines.Line2D at 0x1a1f4a5b38>,\n",
       " <matplotlib.lines.Line2D at 0x1a1f4a5c88>,\n",
       " <matplotlib.lines.Line2D at 0x1a1f4a5dd8>,\n",
       " <matplotlib.lines.Line2D at 0x1a1f4a5f28>,\n",
       " <matplotlib.lines.Line2D at 0x1a1f4aa0b8>,\n",
       " <matplotlib.lines.Line2D at 0x1a1f4aa208>,\n",
       " <matplotlib.lines.Line2D at 0x1a1f4aa358>,\n",
       " <matplotlib.lines.Line2D at 0x1a1f4aa4a8>,\n",
       " <matplotlib.lines.Line2D at 0x1a1f4aa5f8>,\n",
       " <matplotlib.lines.Line2D at 0x1a1f4aa748>,\n",
       " <matplotlib.lines.Line2D at 0x1a1f4aa898>,\n",
       " <matplotlib.lines.Line2D at 0x1a1f4aa9e8>,\n",
       " <matplotlib.lines.Line2D at 0x1a1f4aab38>,\n",
       " <matplotlib.lines.Line2D at 0x1a1f4aac88>,\n",
       " <matplotlib.lines.Line2D at 0x1a1f4aadd8>,\n",
       " <matplotlib.lines.Line2D at 0x1a1f4aaf28>,\n",
       " <matplotlib.lines.Line2D at 0x1a1f4af0b8>,\n",
       " <matplotlib.lines.Line2D at 0x1a1f4af208>,\n",
       " <matplotlib.lines.Line2D at 0x1a1f4af358>,\n",
       " <matplotlib.lines.Line2D at 0x1a1f4af4a8>,\n",
       " <matplotlib.lines.Line2D at 0x1a1f4af5f8>,\n",
       " <matplotlib.lines.Line2D at 0x1a1f4af748>,\n",
       " <matplotlib.lines.Line2D at 0x1a1f4af898>,\n",
       " <matplotlib.lines.Line2D at 0x1a1f4af9e8>,\n",
       " <matplotlib.lines.Line2D at 0x1a1f4afb38>,\n",
       " <matplotlib.lines.Line2D at 0x1a1f4afc88>,\n",
       " <matplotlib.lines.Line2D at 0x1a1f4afdd8>,\n",
       " <matplotlib.lines.Line2D at 0x1a1f4aff28>,\n",
       " <matplotlib.lines.Line2D at 0x1a1f4b40b8>,\n",
       " <matplotlib.lines.Line2D at 0x1a1f4b4208>,\n",
       " <matplotlib.lines.Line2D at 0x1a1f4b4358>,\n",
       " <matplotlib.lines.Line2D at 0x1a1f4b44a8>,\n",
       " <matplotlib.lines.Line2D at 0x1a1f4b45f8>,\n",
       " <matplotlib.lines.Line2D at 0x1a1f4b4748>,\n",
       " <matplotlib.lines.Line2D at 0x1a1f4b4898>,\n",
       " <matplotlib.lines.Line2D at 0x1a1f4b49e8>,\n",
       " <matplotlib.lines.Line2D at 0x1a1f4b4b38>,\n",
       " <matplotlib.lines.Line2D at 0x1a1f4b4c88>,\n",
       " <matplotlib.lines.Line2D at 0x1a1f4b4dd8>,\n",
       " <matplotlib.lines.Line2D at 0x1a1f4b4f28>,\n",
       " <matplotlib.lines.Line2D at 0x1a1f4b90b8>,\n",
       " <matplotlib.lines.Line2D at 0x1a1f4b9208>,\n",
       " <matplotlib.lines.Line2D at 0x1a1f4b9358>,\n",
       " <matplotlib.lines.Line2D at 0x1a1f4b94a8>,\n",
       " <matplotlib.lines.Line2D at 0x1a1f4b95f8>,\n",
       " <matplotlib.lines.Line2D at 0x1a1f4b9748>,\n",
       " <matplotlib.lines.Line2D at 0x1a1f4b9898>,\n",
       " <matplotlib.lines.Line2D at 0x1a1f4b99e8>,\n",
       " <matplotlib.lines.Line2D at 0x1a1f4b9b38>,\n",
       " <matplotlib.lines.Line2D at 0x1a1f4b9c88>,\n",
       " <matplotlib.lines.Line2D at 0x1a1f4b9dd8>,\n",
       " <matplotlib.lines.Line2D at 0x1a1f4b9f28>,\n",
       " <matplotlib.lines.Line2D at 0x1a1f4be0b8>,\n",
       " <matplotlib.lines.Line2D at 0x1a1f4be208>,\n",
       " <matplotlib.lines.Line2D at 0x1a1f4be358>,\n",
       " <matplotlib.lines.Line2D at 0x1a1f4be4a8>,\n",
       " <matplotlib.lines.Line2D at 0x1a1f4be5f8>,\n",
       " <matplotlib.lines.Line2D at 0x1a1f4be748>,\n",
       " <matplotlib.lines.Line2D at 0x1a1f4be898>,\n",
       " <matplotlib.lines.Line2D at 0x1a1f4be9e8>,\n",
       " <matplotlib.lines.Line2D at 0x1a1f4beb38>,\n",
       " <matplotlib.lines.Line2D at 0x1a1f4bec88>,\n",
       " <matplotlib.lines.Line2D at 0x1a1f4bedd8>,\n",
       " <matplotlib.lines.Line2D at 0x1a1f4bef28>,\n",
       " <matplotlib.lines.Line2D at 0x1a1f4c40b8>,\n",
       " <matplotlib.lines.Line2D at 0x1a1f4c4208>,\n",
       " <matplotlib.lines.Line2D at 0x1a1f4c4358>,\n",
       " <matplotlib.lines.Line2D at 0x1a1f4c44a8>,\n",
       " <matplotlib.lines.Line2D at 0x1a1f4c45f8>,\n",
       " <matplotlib.lines.Line2D at 0x1a1f4c4748>,\n",
       " <matplotlib.lines.Line2D at 0x1a1f4c4898>,\n",
       " <matplotlib.lines.Line2D at 0x1a1f4c49e8>,\n",
       " <matplotlib.lines.Line2D at 0x1a1f4c4b38>,\n",
       " <matplotlib.lines.Line2D at 0x1a1f4c4c88>,\n",
       " <matplotlib.lines.Line2D at 0x1a1f4c4dd8>,\n",
       " <matplotlib.lines.Line2D at 0x1a1f4c4f28>,\n",
       " <matplotlib.lines.Line2D at 0x1a1f4ca0b8>,\n",
       " <matplotlib.lines.Line2D at 0x1a1f4ca208>,\n",
       " <matplotlib.lines.Line2D at 0x1a1f4ca358>,\n",
       " <matplotlib.lines.Line2D at 0x1a1f4ca4a8>,\n",
       " <matplotlib.lines.Line2D at 0x1a1f4ca5f8>,\n",
       " <matplotlib.lines.Line2D at 0x1a1f4ca748>,\n",
       " <matplotlib.lines.Line2D at 0x1a1f4ca898>,\n",
       " <matplotlib.lines.Line2D at 0x1a1f4ca9e8>,\n",
       " <matplotlib.lines.Line2D at 0x1a1f4cab38>,\n",
       " <matplotlib.lines.Line2D at 0x1a1f4cac88>,\n",
       " <matplotlib.lines.Line2D at 0x1a1f4cadd8>,\n",
       " <matplotlib.lines.Line2D at 0x1a1f4caf28>,\n",
       " <matplotlib.lines.Line2D at 0x1a1f4ce0b8>,\n",
       " <matplotlib.lines.Line2D at 0x1a1f4ce208>,\n",
       " <matplotlib.lines.Line2D at 0x1a1f4ce358>,\n",
       " <matplotlib.lines.Line2D at 0x1a1f4ce4a8>,\n",
       " <matplotlib.lines.Line2D at 0x1a1f4ce5f8>,\n",
       " <matplotlib.lines.Line2D at 0x1a1f4ce748>,\n",
       " <matplotlib.lines.Line2D at 0x1a1f4ce898>,\n",
       " <matplotlib.lines.Line2D at 0x1a1f4ce9e8>,\n",
       " <matplotlib.lines.Line2D at 0x1a1f4ceb38>,\n",
       " <matplotlib.lines.Line2D at 0x1a1f4cec88>,\n",
       " <matplotlib.lines.Line2D at 0x1a1f4cedd8>,\n",
       " <matplotlib.lines.Line2D at 0x1a1f4cef28>,\n",
       " <matplotlib.lines.Line2D at 0x1a1f4d30b8>,\n",
       " <matplotlib.lines.Line2D at 0x1a1f4d3208>,\n",
       " <matplotlib.lines.Line2D at 0x1a1f4d3358>,\n",
       " <matplotlib.lines.Line2D at 0x1a1f4d34a8>,\n",
       " <matplotlib.lines.Line2D at 0x1a1f4d35f8>,\n",
       " <matplotlib.lines.Line2D at 0x1a1f4d3748>,\n",
       " <matplotlib.lines.Line2D at 0x1a1f4d3898>,\n",
       " <matplotlib.lines.Line2D at 0x1a1f4d39e8>,\n",
       " <matplotlib.lines.Line2D at 0x1a1f4d3b38>,\n",
       " <matplotlib.lines.Line2D at 0x1a1f4d3c88>,\n",
       " <matplotlib.lines.Line2D at 0x1a1f4d3dd8>,\n",
       " <matplotlib.lines.Line2D at 0x1a1f4d3f28>,\n",
       " <matplotlib.lines.Line2D at 0x1a1f4d80b8>,\n",
       " <matplotlib.lines.Line2D at 0x1a1f4d8208>,\n",
       " <matplotlib.lines.Line2D at 0x1a1f4d8358>,\n",
       " <matplotlib.lines.Line2D at 0x1a1f4d84a8>,\n",
       " <matplotlib.lines.Line2D at 0x1a1f4d85f8>,\n",
       " <matplotlib.lines.Line2D at 0x1a1f4d8748>,\n",
       " <matplotlib.lines.Line2D at 0x1a1f4d8898>,\n",
       " <matplotlib.lines.Line2D at 0x1a1f4d89e8>,\n",
       " <matplotlib.lines.Line2D at 0x1a1f4d8b38>,\n",
       " <matplotlib.lines.Line2D at 0x1a1f4d8c88>,\n",
       " <matplotlib.lines.Line2D at 0x1a1f4d8dd8>,\n",
       " <matplotlib.lines.Line2D at 0x1a1f4d8f28>,\n",
       " <matplotlib.lines.Line2D at 0x1a1f4de0b8>,\n",
       " <matplotlib.lines.Line2D at 0x1a1f4de208>,\n",
       " <matplotlib.lines.Line2D at 0x1a1f4de358>,\n",
       " <matplotlib.lines.Line2D at 0x1a1f4de4a8>,\n",
       " <matplotlib.lines.Line2D at 0x1a1f4de5f8>,\n",
       " <matplotlib.lines.Line2D at 0x1a1f4de748>,\n",
       " <matplotlib.lines.Line2D at 0x1a1f4de898>,\n",
       " <matplotlib.lines.Line2D at 0x1a1f4de9e8>,\n",
       " <matplotlib.lines.Line2D at 0x1a1f4deb38>,\n",
       " <matplotlib.lines.Line2D at 0x1a1f4dec88>,\n",
       " <matplotlib.lines.Line2D at 0x1a1f4dedd8>,\n",
       " <matplotlib.lines.Line2D at 0x1a1f4def28>,\n",
       " <matplotlib.lines.Line2D at 0x1a1f4e30b8>,\n",
       " <matplotlib.lines.Line2D at 0x1a1f4e3208>,\n",
       " <matplotlib.lines.Line2D at 0x1a1f4e3358>,\n",
       " <matplotlib.lines.Line2D at 0x1a1f4e34a8>,\n",
       " <matplotlib.lines.Line2D at 0x1a1f4e35f8>,\n",
       " <matplotlib.lines.Line2D at 0x1a1f4e3748>,\n",
       " <matplotlib.lines.Line2D at 0x1a1f4e3898>,\n",
       " <matplotlib.lines.Line2D at 0x1a1f4e39e8>,\n",
       " <matplotlib.lines.Line2D at 0x1a1f4e3b38>,\n",
       " <matplotlib.lines.Line2D at 0x1a1f4e3c88>,\n",
       " <matplotlib.lines.Line2D at 0x1a1f4e3dd8>,\n",
       " <matplotlib.lines.Line2D at 0x1a1f4e3f28>,\n",
       " <matplotlib.lines.Line2D at 0x1a1f4e70b8>,\n",
       " <matplotlib.lines.Line2D at 0x1a1f4e7208>,\n",
       " <matplotlib.lines.Line2D at 0x1a1f4e7358>,\n",
       " <matplotlib.lines.Line2D at 0x1a1f4e74a8>,\n",
       " <matplotlib.lines.Line2D at 0x1a1f4e75f8>,\n",
       " <matplotlib.lines.Line2D at 0x1a1f4e7748>,\n",
       " <matplotlib.lines.Line2D at 0x1a1f4e7898>,\n",
       " <matplotlib.lines.Line2D at 0x1a1f4e79e8>,\n",
       " <matplotlib.lines.Line2D at 0x1a1f4e7b38>,\n",
       " <matplotlib.lines.Line2D at 0x1a1f4e7c88>,\n",
       " <matplotlib.lines.Line2D at 0x1a1f4e7dd8>,\n",
       " <matplotlib.lines.Line2D at 0x1a1f4e7f28>,\n",
       " <matplotlib.lines.Line2D at 0x1a1f4ee0b8>,\n",
       " <matplotlib.lines.Line2D at 0x1a1f4ee208>,\n",
       " <matplotlib.lines.Line2D at 0x1a1f4ee358>,\n",
       " <matplotlib.lines.Line2D at 0x1a1f4ee4a8>,\n",
       " <matplotlib.lines.Line2D at 0x1a1f4ee5f8>,\n",
       " <matplotlib.lines.Line2D at 0x1a1f4ee748>,\n",
       " <matplotlib.lines.Line2D at 0x1a1f4ee898>,\n",
       " <matplotlib.lines.Line2D at 0x1a1f4ee9e8>,\n",
       " <matplotlib.lines.Line2D at 0x1a1f4eeb38>,\n",
       " <matplotlib.lines.Line2D at 0x1a1f4eec88>,\n",
       " <matplotlib.lines.Line2D at 0x1a1f4eedd8>,\n",
       " <matplotlib.lines.Line2D at 0x1a1f4eef28>,\n",
       " <matplotlib.lines.Line2D at 0x1a1f4f30b8>,\n",
       " <matplotlib.lines.Line2D at 0x1a1f4f3208>,\n",
       " <matplotlib.lines.Line2D at 0x1a1f4f3358>,\n",
       " <matplotlib.lines.Line2D at 0x1a1f4f34a8>,\n",
       " <matplotlib.lines.Line2D at 0x1a1f4f35f8>,\n",
       " <matplotlib.lines.Line2D at 0x1a1f4f3748>,\n",
       " <matplotlib.lines.Line2D at 0x1a1f4f3898>,\n",
       " <matplotlib.lines.Line2D at 0x1a1f4f39e8>,\n",
       " <matplotlib.lines.Line2D at 0x1a1f4f3b38>,\n",
       " <matplotlib.lines.Line2D at 0x1a1f4f3c88>,\n",
       " <matplotlib.lines.Line2D at 0x1a1f4f3dd8>,\n",
       " <matplotlib.lines.Line2D at 0x1a1f4f3f28>,\n",
       " <matplotlib.lines.Line2D at 0x1a1f4f80b8>,\n",
       " <matplotlib.lines.Line2D at 0x1a1f4f8208>,\n",
       " <matplotlib.lines.Line2D at 0x1a1f4f8358>,\n",
       " <matplotlib.lines.Line2D at 0x1a1f4f84a8>,\n",
       " <matplotlib.lines.Line2D at 0x1a1f4f85f8>,\n",
       " <matplotlib.lines.Line2D at 0x1a1f4f8748>,\n",
       " <matplotlib.lines.Line2D at 0x1a1f4f8898>,\n",
       " <matplotlib.lines.Line2D at 0x1a1f4f89e8>,\n",
       " <matplotlib.lines.Line2D at 0x1a1f4f8b38>,\n",
       " <matplotlib.lines.Line2D at 0x1a1f4f8c88>,\n",
       " <matplotlib.lines.Line2D at 0x1a1f4f8dd8>,\n",
       " <matplotlib.lines.Line2D at 0x1a1f4f8f28>,\n",
       " <matplotlib.lines.Line2D at 0x1a1f4fc0b8>,\n",
       " <matplotlib.lines.Line2D at 0x1a1f4fc208>,\n",
       " <matplotlib.lines.Line2D at 0x1a1f4fc358>,\n",
       " <matplotlib.lines.Line2D at 0x1a1f4fc4a8>,\n",
       " <matplotlib.lines.Line2D at 0x1a1f4fc5f8>,\n",
       " <matplotlib.lines.Line2D at 0x1a1f4fc748>,\n",
       " <matplotlib.lines.Line2D at 0x1a1f4fc898>,\n",
       " <matplotlib.lines.Line2D at 0x1a1f4fc9e8>,\n",
       " <matplotlib.lines.Line2D at 0x1a1f4fcb38>,\n",
       " <matplotlib.lines.Line2D at 0x1a1f4fcc88>,\n",
       " <matplotlib.lines.Line2D at 0x1a1f4fcdd8>,\n",
       " <matplotlib.lines.Line2D at 0x1a1f4fcf28>,\n",
       " <matplotlib.lines.Line2D at 0x1a1f5020b8>,\n",
       " <matplotlib.lines.Line2D at 0x1a1f502208>,\n",
       " <matplotlib.lines.Line2D at 0x1a1f502358>,\n",
       " <matplotlib.lines.Line2D at 0x1a1f5024a8>,\n",
       " <matplotlib.lines.Line2D at 0x1a1f5025f8>,\n",
       " <matplotlib.lines.Line2D at 0x1a1f502748>,\n",
       " <matplotlib.lines.Line2D at 0x1a1f502898>,\n",
       " <matplotlib.lines.Line2D at 0x1a1f5029e8>,\n",
       " <matplotlib.lines.Line2D at 0x1a1f502b38>,\n",
       " <matplotlib.lines.Line2D at 0x1a1f502c88>,\n",
       " <matplotlib.lines.Line2D at 0x1a1f502dd8>,\n",
       " <matplotlib.lines.Line2D at 0x1a1f502f28>,\n",
       " <matplotlib.lines.Line2D at 0x1a1f5070b8>,\n",
       " <matplotlib.lines.Line2D at 0x1a1f507208>,\n",
       " <matplotlib.lines.Line2D at 0x1a1f507358>,\n",
       " <matplotlib.lines.Line2D at 0x1a1f5074a8>,\n",
       " <matplotlib.lines.Line2D at 0x1a1f5075f8>,\n",
       " <matplotlib.lines.Line2D at 0x1a1f507748>,\n",
       " ...]"
      ]
     },
     "execution_count": 75,
     "metadata": {},
     "output_type": "execute_result"
    },
    {
     "data": {
      "image/png": "[encoded data removed]",
      "text/plain": [
       "<Figure size 432x288 with 1 Axes>"
      ]
     },
     "metadata": {},
     "output_type": "display_data"
    }
   ],
   "source": []
  },
  {
   "cell_type": "code",
   "execution_count": null,
   "metadata": {},
   "outputs": [],
   "source": []
  }
 ],
 "metadata": {
  "kernelspec": {
   "display_name": "Python 3",
   "language": "python",
   "name": "python3"
  },
  "language_info": {
   "codemirror_mode": {
    "name": "ipython",
    "version": 3
   },
   "file_extension": ".py",
   "mimetype": "text/x-python",
   "name": "python",
   "nbconvert_exporter": "python",
   "pygments_lexer": "ipython3",
   "version": "3.6.5"
  }
 },
 "nbformat": 4,
 "nbformat_minor": 2
}
